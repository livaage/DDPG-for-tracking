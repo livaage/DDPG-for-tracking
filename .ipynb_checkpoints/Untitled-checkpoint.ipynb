{
 "cells": [
  {
   "cell_type": "code",
   "execution_count": 1,
   "id": "29904a38",
   "metadata": {},
   "outputs": [],
   "source": [
    "import numpy as np \n",
    "import pandas as pd\n",
    "import matplotlib.pyplot as plt \n"
   ]
  },
  {
   "cell_type": "code",
   "execution_count": 2,
   "id": "f976443c",
   "metadata": {},
   "outputs": [],
   "source": [
    "event = pd.read_hdf('~/gnnfiles/data/ntuple_PU200_numEvent1000/ntuple_PU200_event0.h5')"
   ]
  },
  {
   "cell_type": "code",
   "execution_count": 135,
   "id": "c86cd77a",
   "metadata": {},
   "outputs": [],
   "source": [
    "dr = np.loadtxt(\"drs.csv\")\n",
    "pids = np.loadtxt(\"pids.csv\")\n",
    "r = np.loadtxt(\"rs.csv\")\n",
    "z = np.loadtxt(\"zs.csv\")\n",
    "dz = np.loadtxt(\"dzs.csv\")\n",
    "new_r = np.loadtxt(\"new_r.csv\")\n",
    "new_z = np.loadtxt(\"new_z.csv\")"
   ]
  },
  {
   "cell_type": "code",
   "execution_count": 136,
   "id": "a7e52b62",
   "metadata": {},
   "outputs": [
    {
     "data": {
      "text/plain": [
       "array([ 7.35734892,  7.41210079,  7.92034101,  8.23900127, 14.40539551,\n",
       "       14.44673347, 14.49370766, 14.49080944,  7.35766697,  7.3557272 ,\n",
       "        7.35766697,  7.3557272 , 15.46745968, 15.46499443, 15.46426296,\n",
       "       15.46499443, 12.75410366, 12.73092747, 12.75410366, 12.73092747,\n",
       "       10.47233772, 10.4700613 , 10.74704075, 11.65954876,  5.94705486,\n",
       "        5.95230913,  5.95908642,  5.96032429,  3.31890225,  3.30471087,\n",
       "        3.28677058,  3.27880001,  5.77026415,  5.76242876,  5.75342703,\n",
       "        5.75336123,  8.25179005,  8.2529211 ,  8.25179005,  8.2529211 ,\n",
       "        7.25263119,  7.2528367 ,  7.25093174,  7.2528367 , 15.49215508,\n",
       "       15.49076557, 15.49397087, 15.49076557, 24.79074097, 24.78941345,\n",
       "       24.80590439, 24.81250572, 13.81685638, 13.79569721, 13.79094219,\n",
       "       13.79569721,  6.412117  ,  6.41050625,  6.40197229,  6.40135527,\n",
       "       19.71103287, 19.69659615, 19.68286324, 19.69659615,  5.26545382,\n",
       "        5.2675066 ,  5.26919174,  5.2675066 ,  8.82829189,  8.82677841,\n",
       "        8.82436657,  8.82266426,  3.7544558 ,  3.75219917,  3.74672341,\n",
       "        3.74496412,  5.90000057,  5.90852261,  5.90091848,  5.90003777,\n",
       "       16.19601822, 16.19337654, 16.18383217, 16.18372726, 14.43478107,\n",
       "       14.42998219, 14.43213844, 14.41701698, 13.93025303, 13.93054008,\n",
       "       13.9367609 , 13.93054008,  9.07338047,  9.07542992,  9.07089138,\n",
       "        9.07542992,  6.41880608,  6.42174292,  6.41918993,  6.4000001 ,\n",
       "        8.77203083,  8.77200794,  8.77815723,  8.77200794,  6.86453629,\n",
       "        6.85881186,  6.85832453,  6.85881186, 19.79401779, 19.78375053,\n",
       "       19.78281975, 19.78375053,  2.7659421 ,  2.77749014,  2.77258801,\n",
       "        2.7572341 ,  3.83526134,  3.83228779,  3.83526134,  3.83228779,\n",
       "       22.2061882 , 22.19690323, 22.18891335, 22.19690323,  3.96860051,\n",
       "        3.96609473,  3.96860051,  3.96609473,  6.41123009,  6.40063906,\n",
       "        6.40000105,  6.40275383, 14.45441628, 14.43738461, 14.45481205,\n",
       "       14.43469143,  6.49864435,  6.48037052,  6.47274113,  6.4601984 ,\n",
       "        5.39694118,  5.40281153,  5.40471983,  5.40281153,  3.74840331,\n",
       "        3.74826336,  3.74840331,  3.74826336,  3.62043428,  3.6164906 ,\n",
       "        3.61512685,  3.61392331, 10.5688467 , 10.57005787, 10.57412815,\n",
       "       10.57764339,  7.33903122,  7.34192896,  7.33428431,  7.33106375,\n",
       "        7.08524752,  7.08678198,  7.09109354,  7.09281206,  5.94422817,\n",
       "        5.91383553,  5.90867424,  5.91244793,  3.37527895,  3.37441802,\n",
       "        3.37527895,  3.37441802, 19.59579277, 19.6000843 , 19.59579277,\n",
       "       19.6000843 ,  9.83767128,  9.83534527, 10.07366943, 10.08139133,\n",
       "        5.18960667,  5.18908882,  5.18879509,  5.19010019,  9.09049797,\n",
       "        9.0864172 ,  9.07884121,  9.07559586,  5.15041304,  5.14099693,\n",
       "        5.139606  ,  5.13832951, 23.3886776 , 24.11506844, 24.10593414,\n",
       "       24.11506844,  6.75479841,  6.7546277 ,  6.75479841,  6.7546277 ,\n",
       "        6.21719646,  6.61466551,  6.62297726,  6.6236186 , 10.20541286,\n",
       "       10.74383259, 12.29009628, 12.28963089, 12.29664326, 12.30131531,\n",
       "       14.30429459, 14.3103199 , 14.31990623, 14.3103199 ,  7.80879593,\n",
       "        7.48656464,  7.46046829,  7.44000292, 19.08119011, 19.88018799,\n",
       "       19.86857414, 19.8651619 ,  5.61769581,  5.61451817,  5.6044817 ,\n",
       "        5.59842825,  4.95720673,  5.39680719,  5.39639091,  5.39680719,\n",
       "        2.83604622,  2.83762741,  2.82892776,  2.83396578,  8.4876318 ,\n",
       "        8.48681545,  8.49726009,  8.49785519, 11.71063805, 12.44456482,\n",
       "       12.44177341, 12.45452309, 14.71568966, 14.71641827, 14.71670437,\n",
       "       14.71641827,  8.62099648,  9.24817657,  9.24177551,  9.23936844,\n",
       "       17.72832108, 17.72933578, 17.73080444, 17.73136711,  3.18864608,\n",
       "        3.76034474,  3.76100993,  3.76034474,  6.52826214,  7.16477442,\n",
       "        7.16362333,  7.16477442, 15.6743803 , 15.67313671, 15.67652893,\n",
       "       15.67949009, 14.42947674, 14.4092865 , 14.40343094, 14.42708111,\n",
       "        6.63729   ,  7.3483839 ,  7.34877634,  7.3483839 ,  9.3131485 ,\n",
       "        9.27641869,  9.26363373,  9.25619602, 10.12751675, 10.13290024,\n",
       "       10.136343  , 10.13290024,  5.72713089,  5.72187376,  5.7341547 ,\n",
       "        5.73468256, 14.44088554, 14.4444561 , 14.44088554, 14.4444561 ,\n",
       "       13.06009197, 13.05890751, 13.06009197, 13.05890751,  5.90001249,\n",
       "        5.90000868,  5.90476561,  5.90432644,  5.65931463,  5.6603322 ,\n",
       "        5.66225767,  5.6603322 , 10.65142059, 10.65991879, 10.66206551,\n",
       "       10.66299248, 16.18642426, 16.18527603, 16.18436813, 16.18422127,\n",
       "        3.31490588,  3.31160998,  3.3074832 ,  3.27148533, 22.91725731,\n",
       "       22.92262268, 22.92717171, 22.92262268,  3.2707417 ,  3.26791334,\n",
       "        3.25000834,  3.25310779,  4.20136261,  4.20089245,  4.2008481 ,\n",
       "        4.20089245, 10.28630829, 10.29175854, 10.2943306 , 10.29175854,\n",
       "        7.89472485,  7.90147829,  7.90853405,  7.90147829,  6.57897806,\n",
       "        6.57921982,  6.58025122,  6.57921982, 14.91150284, 14.91218758,\n",
       "       14.90223789, 14.91509342, 10.41343021, 10.41631794, 10.41695881,\n",
       "       10.41631794, 12.2711792 , 12.27958107, 12.27963924, 12.27958107,\n",
       "       20.63132668, 20.63684464, 20.63132668, 20.63684464,  6.37043238,\n",
       "        6.36523247,  6.36520243,  6.36523247, 15.71407986, 15.71405697,\n",
       "       15.71407986, 15.71405697,  3.73105049,  3.73156881,  3.72953963,\n",
       "        3.73156881,  6.44860601,  6.40692282,  6.40313244,  6.40000391,\n",
       "        9.10625076,  9.09736538,  9.11793137,  9.13443279,  3.30865955,\n",
       "        3.30912924,  3.2708354 ,  3.27438211,  6.66668129,  6.67812729,\n",
       "        6.67909622,  6.67812729,  3.23564458,  3.23530817,  3.23528719,\n",
       "        3.23530817,  8.83222866,  8.83278275,  8.83335495,  8.83278275,\n",
       "       11.55179882, 11.54145145, 11.55179882, 11.54145145,  4.32428408,\n",
       "        4.32744265,  4.32428408,  4.32744265])"
      ]
     },
     "execution_count": 136,
     "metadata": {},
     "output_type": "execute_result"
    }
   ],
   "source": [
    "r"
   ]
  },
  {
   "cell_type": "code",
   "execution_count": 130,
   "id": "6111a7d1",
   "metadata": {},
   "outputs": [
    {
     "data": {
      "text/plain": [
       "array([230.16900635, 230.16900635, 230.16900635])"
      ]
     },
     "execution_count": 130,
     "metadata": {},
     "output_type": "execute_result"
    }
   ],
   "source": [
    "z[:3]"
   ]
  },
  {
   "cell_type": "code",
   "execution_count": 137,
   "id": "eaa8837a",
   "metadata": {},
   "outputs": [
    {
     "data": {
      "text/plain": [
       "array([-0.17779125, -0.67814249, -0.91812891, -0.9674842 , -0.29952492,\n",
       "       -0.52823618, -0.653754  , -0.79109354, -1.00879184, -0.9828776 ,\n",
       "       -0.98036514, -0.98284743, -0.98049195, -1.00962464, -1.00320615,\n",
       "       -1.00106817, -0.98945732, -1.02220833, -1.06121177, -1.02781147,\n",
       "       -0.99220512, -0.96444873, -0.96174345, -0.96122377, -0.97700959,\n",
       "       -0.99162341, -0.9729654 , -0.96984552, -0.96024989, -0.94287482,\n",
       "       -0.94366834, -0.9971554 , -0.99328164, -1.00534564, -1.0575085 ,\n",
       "       -1.09597123, -1.10273757, -1.09856786, -1.08549576, -1.12043913,\n",
       "       -1.07774368, -1.08337215, -1.07553564, -1.09127496, -1.09958158,\n",
       "       -1.11060887, -1.11240882, -1.06630119, -1.09176059, -1.09508229,\n",
       "       -1.1107332 , -1.12020317, -1.1710781 , -1.17458174, -1.15913506,\n",
       "       -1.1493464 , -1.14921421, -1.14083271, -1.12365371, -1.08301846,\n",
       "       -1.06269222, -1.07391946, -1.08301853, -1.0929866 , -1.09232503,\n",
       "       -1.08582564, -1.05624367, -1.03081027, -1.02890833, -1.02706327,\n",
       "       -1.03506521, -1.04751585, -1.05947837, -1.0916071 , -1.08510869,\n",
       "       -1.08595588, -1.09760308, -1.10984189, -1.12813637, -1.15761745,\n",
       "       -1.17324215, -1.15878296, -1.13422391, -1.19290109, -1.1928451 ,\n",
       "       -1.20646042, -1.2467564 , -1.26294628, -1.28944744, -1.26049653,\n",
       "       -1.26864077, -1.25882061, -1.27753916, -1.28637915, -1.28441006,\n",
       "       -1.28701302, -1.27815523, -1.2795896 , -1.23793348, -1.22427432,\n",
       "       -1.2270983 , -1.20911814, -1.18962611, -1.1610096 , -1.17404497,\n",
       "       -1.2168854 , -1.22879634, -1.21862782, -1.20860144, -1.19287323,\n",
       "       -1.20587209, -1.21450611, -1.15147088, -1.19737774, -1.22630325,\n",
       "       -1.25910269, -1.25746344, -1.22778842, -1.24524532, -1.24366917,\n",
       "       -1.25664365, -1.19962318, -1.18883101, -1.18548627, -1.21081632,\n",
       "       -1.20213692, -1.21692389, -1.17898817, -0.88639364, -0.75415751,\n",
       "       -0.31920308,  0.29248292,  0.69744477,  0.83138417,  0.84359637,\n",
       "        0.83324171,  0.33660256,  0.89545417,  0.88529362,  0.86429403,\n",
       "        0.87164749,  0.85395574,  0.87030963,  0.87133619,  0.87330381,\n",
       "        0.86099275,  0.88900655,  0.89679964,  0.89489645,  0.89064747,\n",
       "        0.90179007,  0.89439947,  0.89458315,  0.86991453,  0.86315236,\n",
       "        0.86580689,  0.87654248,  0.85975386,  0.88843542,  0.88146706,\n",
       "        0.86579584,  0.88268825,  0.88189701,  0.89133129,  0.8314492 ,\n",
       "        0.86439858,  0.87391461,  0.880841  ,  0.8883051 ,  0.86089336,\n",
       "        0.84397714,  0.84173323,  0.8536452 ,  0.84044091,  0.80863618,\n",
       "        0.82855906,  0.81731646,  0.82743785,  0.82308635,  0.85131236,\n",
       "        0.83399146,  0.85337124,  0.85146223,  0.8342193 ,  0.81158936,\n",
       "        0.82620783,  0.80032471,  0.7672825 ,  0.73443007,  0.71445908,\n",
       "        0.72110209,  0.74940469,  0.75328722,  0.75804135,  0.77333994,\n",
       "        0.76716688,  0.76758222,  0.7382262 ,  0.73435151,  0.74045766,\n",
       "        0.76873739,  0.7336699 ,  0.75013922,  0.75609698,  0.75870043,\n",
       "        0.73598049,  0.72370595,  0.74001782,  0.73861376,  0.77875737,\n",
       "        0.79699515,  0.80378194,  0.80088769,  0.79078645,  0.79958169,\n",
       "        0.78800142,  0.80879359,  0.77679989,  0.81396366,  0.81739098,\n",
       "        0.78002624,  0.76884357,  0.76632842,  0.7605479 ,  0.72793276,\n",
       "        0.72418276,  0.73547252,  0.7300642 ,  0.73640196,  0.73561003,\n",
       "        0.75326829,  0.7647584 ,  0.7613384 ,  0.74895435,  0.72952995,\n",
       "        0.74972755,  0.74009906,  0.71890245,  0.7409597 ,  0.74194927,\n",
       "        0.72196026,  0.71017419,  0.70813876,  0.68584626,  0.6757442 ,\n",
       "        0.65788778,  0.62631058,  0.60965736,  0.61309377,  0.58320112,\n",
       "        0.60301946,  0.5933348 ,  0.61694981,  0.60146592,  0.59676095,\n",
       "        0.60712582,  0.62328256,  0.62041003,  0.63705271,  0.65207894,\n",
       "        0.69141995,  0.70422059,  0.70651606,  0.69722908,  0.67069499,\n",
       "        0.6870294 ,  0.64964011,  0.68568456,  0.70652193,  0.72462324,\n",
       "        0.76649327,  0.75002357,  0.73177846,  0.71862184,  0.70879452,\n",
       "        0.67156286,  0.67599987,  0.6768757 ,  0.65140156,  0.67713404,\n",
       "        0.67930738,  0.68785684,  0.66407942,  0.6834295 ,  0.69206222,\n",
       "        0.68786245,  0.69660015,  0.70201591,  0.65500561,  0.65879341,\n",
       "        0.62015817,  0.60953392,  0.59351109,  0.57573027,  0.40620895,\n",
       "        0.47497164,  0.51911411,  0.53323763,  0.61648764,  0.65785516,\n",
       "        0.65087325,  0.65135507,  0.69170335,  0.71473022,  0.7208161 ,\n",
       "        0.73252677,  0.7502208 ,  0.75167953,  0.76155511,  0.75515741,\n",
       "        0.78246231,  0.76813761,  0.78562733,  0.76632931,  0.77692652,\n",
       "        0.76875352,  0.79900663,  0.81524072,  0.84421005,  0.83595056,\n",
       "        0.83083499,  0.81860835,  0.79475425,  0.80629755,  0.81765945,\n",
       "        0.82496708,  0.81966466,  0.83540787,  0.83794131,  0.85458992,\n",
       "        0.90469632,  0.90748135,  0.91143986,  0.92828757,  0.93619582,\n",
       "        0.94983334,  0.9511162 ,  0.93773824,  0.63832293,  0.95403406,\n",
       "        0.94023474,  0.93351844,  0.95091993,  0.94312796,  0.96520174,\n",
       "        0.99189186,  1.06155926,  1.04754378,  1.05165392,  1.05941394,\n",
       "        1.0665834 ,  1.07641436,  1.10900821,  1.11859267,  1.12459627,\n",
       "        1.15411639,  1.15874752,  1.16426222,  1.15907042,  1.15387876,\n",
       "        1.14292442,  1.15566124,  1.1561177 ,  1.15371043,  1.13213592,\n",
       "        1.14213211,  0.94209266,  1.15777938,  1.14458414,  1.12996996,\n",
       "        1.11710992,  1.09451373,  1.07826864,  1.06031842,  1.04362905,\n",
       "        1.08985699,  1.09896067,  1.06436774,  1.05219713,  1.05744443,\n",
       "        1.08294742,  1.08140984,  1.11426404,  1.10331111,  1.09024966,\n",
       "        1.11842166,  1.12577019,  1.13257463,  1.13850696,  1.14792355,\n",
       "        1.15416031,  1.13728355,  1.12260291,  1.12417825,  1.0978291 ,\n",
       "        1.09878674,  1.12341532,  1.14051871])"
      ]
     },
     "execution_count": 137,
     "metadata": {},
     "output_type": "execute_result"
    }
   ],
   "source": [
    "dz"
   ]
  },
  {
   "cell_type": "code",
   "execution_count": 103,
   "id": "61bc2847",
   "metadata": {},
   "outputs": [
    {
     "data": {
      "text/plain": [
       "array([25.7251461 , 25.7128994 , 25.74438708, 25.73017192, 25.71528683,\n",
       "       25.68062297, 25.68847795, 25.69409031, 25.69834168, 25.69297314,\n",
       "       25.64840257, 25.65934401, 25.62710726, 25.62519009, 25.59448014,\n",
       "       25.62187905, 25.62658505, 25.59770317, 25.58616151, 25.61653284,\n",
       "       25.64004258, 25.61282545, 25.62026691, 25.62337964, 25.62620293,\n",
       "       25.62498798, 25.61693518, 25.62356522, 25.63946465, 25.64250346,\n",
       "       25.63834201, 25.62705621, 25.62891008, 25.5912649 , 25.58096755,\n",
       "       25.56683147, 25.60624706, 25.58759501, 25.5771051 , 25.56913935,\n",
       "       25.54575968, 25.53261886, 25.55171438, 25.53254127, 25.54661205,\n",
       "       25.54964167, 25.55856244, 25.56428168, 25.57044526, 25.57158006,\n",
       "       25.53531783, 25.53343581, 25.5577097 , 25.5843155 , 25.55857535,\n",
       "       25.55720113, 25.57225425, 25.58643337, 25.58775528, 25.57773101,\n",
       "       25.57571097, 25.53198026, 25.53508576, 25.54499028, 25.53665149,\n",
       "       25.54374603, 25.54608019, 25.55955468, 25.60010246, 25.63192177,\n",
       "       25.59984907, 25.60882349, 25.5905452 , 25.59378851, 25.58895388,\n",
       "       25.6130202 , 25.59007207, 25.61000368, 25.63950121, 25.614114  ,\n",
       "       25.59961509, 25.59002941, 25.61875706, 25.6348256 , 25.67193985,\n",
       "       25.67847766, 25.67768173, 25.67159689, 25.6879763 , 25.68728595,\n",
       "       25.68794756, 25.69705535, 25.6753662 , 25.69434461, 25.72599791,\n",
       "       25.7214926 , 25.73062853, 25.72761308, 25.70308835, 25.71779406,\n",
       "       25.74444873, 25.71661638, 25.72522157, 25.72709228, 25.7584604 ,\n",
       "       25.74870704, 25.76370013, 25.76788348, 25.76641573, 25.78159356,\n",
       "       25.78239879, 25.78282967, 25.79963921, 25.80800383, 25.83611295,\n",
       "       25.83024696, 25.81906659, 25.82373374, 25.85541065, 25.87343408,\n",
       "       25.89406515, 25.8767443 , 25.87929209, 25.89820313, 25.91975804,\n",
       "       25.88248821, 25.89098118, 25.8882877 , 25.90003282, 25.92494619,\n",
       "       25.93070774, 25.96338347, 25.93838967, 25.92590339, 25.89601684,\n",
       "       25.91809253, 25.92281837, 25.89828883, 25.89584251, 25.86667527,\n",
       "       25.87037695, 25.87992913, 25.86191088, 25.90168962, 25.91476482,\n",
       "       25.92163972, 25.89942692, 25.89962987, 25.9034995 , 25.87374916,\n",
       "       25.91014118, 25.86844111, 25.88635693, 25.86439061, 25.87018834,\n",
       "       25.86766014, 25.8776098 , 25.83610043, 25.80461796, 25.81374415,\n",
       "       25.8024321 , 25.8312003 , 25.83342716, 25.81346272, 25.79141246,\n",
       "       25.78920243, 25.80023154, 25.80513874, 25.81123083, 25.81453964,\n",
       "       25.80952327, 25.78800824, 25.80750335, 25.79433793, 25.78179228,\n",
       "       25.78080569, 25.77487761, 25.77086461, 25.75704848, 25.77548679,\n",
       "       25.77009184, 25.78306886, 25.82201713, 25.79809777, 25.84688867,\n",
       "       25.87041112, 25.87932384, 25.88173787, 25.85901971, 25.82919674,\n",
       "       25.80293738, 25.81886513, 25.81722329, 25.82840208, 25.8542765 ,\n",
       "       25.82101833, 25.78654342, 25.76867699, 25.77981462, 25.78893226])"
      ]
     },
     "execution_count": 103,
     "metadata": {},
     "output_type": "execute_result"
    }
   ],
   "source": [
    "dr[-200:]"
   ]
  },
  {
   "cell_type": "code",
   "execution_count": 104,
   "id": "a58767ae",
   "metadata": {},
   "outputs": [
    {
     "data": {
      "text/plain": [
       "array([ 0.34218285,  0.        ,  0.        ,  0.        ,  0.        ,\n",
       "        0.        ,  0.        ,  0.        ,  0.        ,  0.21752369,\n",
       "        0.10520297,  0.03002962,  0.        ,  0.        ,  0.        ,\n",
       "        0.        ,  0.08588459,  0.43477779,  0.60620627, 17.27390502,\n",
       "       23.77839771, 25.51132106, 25.84257343, 25.93388565, 25.97925847,\n",
       "       25.44323545, 16.01917118, 14.69710226, 21.34689522, 14.92246825,\n",
       "       25.98297397, 26.        , 26.        , 25.99133121, 26.        ,\n",
       "       26.        , 25.80562108, 26.        , 26.        , 25.99464905,\n",
       "       26.        , 26.        , 26.        , 26.        , 26.        ,\n",
       "       26.        , 26.        , 26.        , 26.        , 26.        ,\n",
       "       26.        , 26.        , 26.        , 26.        , 26.        ,\n",
       "       26.        , 26.        , 26.        , 26.        , 26.        ,\n",
       "       26.        , 26.        , 26.        , 26.        , 26.        ,\n",
       "       26.        , 26.        , 26.        , 26.        , 26.        ,\n",
       "       26.        , 26.        , 26.        , 26.        , 26.        ,\n",
       "       26.        , 26.        , 26.        , 26.        , 26.        ,\n",
       "       26.        , 26.        , 26.        , 26.        , 26.        ,\n",
       "       26.        , 26.        , 26.        , 26.        , 26.        ,\n",
       "       26.        , 26.        , 26.        , 26.        , 26.        ,\n",
       "       26.        , 26.        , 26.        , 26.        , 26.        ])"
      ]
     },
     "execution_count": 104,
     "metadata": {},
     "output_type": "execute_result"
    }
   ],
   "source": [
    "dr[:100]"
   ]
  },
  {
   "cell_type": "code",
   "execution_count": 105,
   "id": "fc4c656f",
   "metadata": {},
   "outputs": [
    {
     "data": {
      "text/plain": [
       "array([265.7251461 , 265.7128994 , 265.74438708, 265.73017192,\n",
       "       265.71528683, 265.68062297, 265.68847795, 265.69409031,\n",
       "       265.69834168, 265.69297314, 265.64840257, 265.65934401,\n",
       "       265.62710726, 265.62519009, 265.59448014, 265.62187905,\n",
       "       265.62658505, 265.59770317, 265.58616151, 265.61653284,\n",
       "       265.64004258, 265.61282545, 265.62026691, 265.62337964,\n",
       "       265.62620293, 265.62498798, 265.61693518, 265.62356522,\n",
       "       265.63946465, 265.64250346, 265.63834201, 265.62705621,\n",
       "       265.62891008, 265.5912649 , 265.58096755, 265.56683147,\n",
       "       265.60624706, 265.58759501, 265.5771051 , 265.56913935,\n",
       "       265.54575968, 265.53261886, 265.55171438, 265.53254127,\n",
       "       265.54661205, 265.54964167, 265.55856244, 265.56428168,\n",
       "       265.57044526, 265.57158006, 265.53531783, 265.53343581,\n",
       "       265.5577097 , 265.5843155 , 265.55857535, 265.55720113,\n",
       "       265.57225425, 265.58643337, 265.58775528, 265.57773101,\n",
       "       265.57571097, 265.53198026, 265.53508576, 265.54499028,\n",
       "       265.53665149, 265.54374603, 265.54608019, 265.55955468,\n",
       "       265.60010246, 265.63192177, 265.59984907, 265.60882349,\n",
       "       265.5905452 , 265.59378851, 265.58895388, 265.6130202 ,\n",
       "       265.59007207, 265.61000368, 265.63950121, 265.614114  ,\n",
       "       265.59961509, 265.59002941, 265.61875706, 265.6348256 ,\n",
       "       265.67193985, 265.67847766, 265.67768173, 265.67159689,\n",
       "       265.6879763 , 265.68728595, 265.68794756, 265.69705535,\n",
       "       265.6753662 , 265.69434461, 265.72599791, 265.7214926 ,\n",
       "       265.73062853, 265.72761308, 265.70308835, 265.71779406,\n",
       "       265.74444873, 265.71661638, 265.72522157, 265.72709228,\n",
       "       265.7584604 , 265.74870704, 265.76370013, 265.76788348,\n",
       "       265.76641573, 265.78159356, 265.78239879, 265.78282967,\n",
       "       265.79963921, 265.80800383, 265.83611295, 265.83024696,\n",
       "       265.81906659, 265.82373374, 265.85541065, 265.87343408,\n",
       "       265.89406515, 265.8767443 , 265.87929209, 265.89820313,\n",
       "       265.91975804, 265.88248821, 265.89098118, 265.8882877 ,\n",
       "       265.90003282, 265.92494619, 265.93070774, 265.96338347,\n",
       "       265.93838967, 265.92590339, 265.89601684, 265.91809253,\n",
       "       265.92281837, 265.89828883, 265.89584251, 265.86667527,\n",
       "       265.87037695, 265.87992913, 265.86191088, 265.90168962,\n",
       "       265.91476482, 265.92163972, 265.89942692, 265.89962987,\n",
       "       265.9034995 , 265.87374916, 265.91014118, 265.86844111,\n",
       "       265.88635693, 265.86439061, 265.87018834, 265.86766014,\n",
       "       265.8776098 , 265.83610043, 265.80461796, 265.81374415,\n",
       "       265.8024321 , 265.8312003 , 265.83342716, 265.81346272,\n",
       "       265.79141246, 265.78920243, 265.80023154, 265.80513874,\n",
       "       265.81123083, 265.81453964, 265.80952327, 265.78800824,\n",
       "       265.80750335, 265.79433793, 265.78179228, 265.78080569,\n",
       "       265.77487761, 265.77086461, 265.75704848, 265.77548679,\n",
       "       265.77009184, 265.78306886, 265.82201713, 265.79809777,\n",
       "       265.84688867, 265.87041112, 265.87932384, 265.88173787,\n",
       "       265.85901971, 265.82919674, 265.80293738, 265.81886513,\n",
       "       265.81722329, 265.82840208, 265.8542765 , 265.82101833,\n",
       "       265.78654342, 265.76867699, 265.77981462, 265.78893226])"
      ]
     },
     "execution_count": 105,
     "metadata": {},
     "output_type": "execute_result"
    }
   ],
   "source": [
    "dz[-200:]"
   ]
  },
  {
   "cell_type": "code",
   "execution_count": 106,
   "id": "726f6e45",
   "metadata": {},
   "outputs": [
    {
     "data": {
      "text/plain": [
       "array([ 265.20001221,  265.20001221,  265.20001221, -230.96899414,\n",
       "        265.6000061 ,  265.20001221,  265.20001221,  265.20001221,\n",
       "        265.20001221,  265.20001221])"
      ]
     },
     "execution_count": 106,
     "metadata": {},
     "output_type": "execute_result"
    }
   ],
   "source": [
    "z[-10:]"
   ]
  },
  {
   "cell_type": "code",
   "execution_count": 109,
   "id": "3cc779e5",
   "metadata": {},
   "outputs": [
    {
     "data": {
      "text/plain": [
       "array([ -4.08848592,  61.46430665,  12.48909664,  -2.02037603,\n",
       "        -7.74037486,  -2.31235711,  -1.71192098,  -4.45093802,\n",
       "        10.89095454,  -3.59868946,   0.69268656,   2.71216062,\n",
       "         2.36550645,  -0.36240134,  -2.94197996,   9.58964524,\n",
       "        -2.06550234,   3.66547044,   5.14986452,  64.04229949,\n",
       "       128.40546528, 149.27929782, 150.18517521, 126.06286056,\n",
       "       106.41578763,  57.16896062,  23.25424999,  29.80747671,\n",
       "        58.44872475,  23.8248492 , 252.40053837, 263.37592763,\n",
       "       265.26626643, 265.80895817, 265.97390508, 266.        ,\n",
       "       168.11739438, 265.98306748, 266.        , 265.99464905,\n",
       "       266.        , 266.        , 266.        , 265.8094314 ,\n",
       "       266.        , 266.        , 266.        , 266.        ,\n",
       "       266.        , 266.        , 266.        , 266.        ,\n",
       "       266.        , 266.        , 266.        , 266.        ,\n",
       "       266.        , 266.        , 266.        , 266.        ,\n",
       "       266.        , 266.        , 266.        , 266.        ,\n",
       "       266.        , 266.        , 266.        , 266.        ,\n",
       "       266.        , 266.        , 266.        , 266.        ,\n",
       "       266.        , 266.        , 266.        , 266.        ,\n",
       "       266.        , 266.        , 266.        , 266.        ,\n",
       "       266.        , 266.        , 266.        , 266.        ,\n",
       "       266.        , 266.        , 266.        , 266.        ,\n",
       "       266.        , 266.        , 266.        , 266.        ,\n",
       "       266.        , 266.        , 266.        , 266.        ,\n",
       "       266.        , 266.        , 266.        , 266.        ])"
      ]
     },
     "execution_count": 109,
     "metadata": {},
     "output_type": "execute_result"
    }
   ],
   "source": [
    "dz[:100]"
   ]
  },
  {
   "cell_type": "code",
   "execution_count": 71,
   "id": "ee6a9f97",
   "metadata": {},
   "outputs": [
    {
     "data": {
      "text/plain": [
       "25.507285262408832"
      ]
     },
     "execution_count": 71,
     "metadata": {},
     "output_type": "execute_result"
    }
   ],
   "source": [
    "np.mean(dz)"
   ]
  },
  {
   "cell_type": "code",
   "execution_count": 29,
   "id": "10a324a9",
   "metadata": {},
   "outputs": [],
   "source": [
    "p1 = event[event['particle_id']==-12309]"
   ]
  },
  {
   "cell_type": "code",
   "execution_count": 21,
   "id": "77e85962",
   "metadata": {},
   "outputs": [
    {
     "data": {
      "text/plain": [
       "[<matplotlib.lines.Line2D at 0x7f98d2472130>]"
      ]
     },
     "execution_count": 21,
     "metadata": {},
     "output_type": "execute_result"
    },
    {
     "data": {
      "image/png": "[encoded data removed]",
      "text/plain": [
       "<Figure size 432x288 with 1 Axes>"
      ]
     },
     "metadata": {
      "needs_background": "light"
     },
     "output_type": "display_data"
    }
   ],
   "source": [
    "plt.plot(p1.x[:6], p1.y[:6], \"kx\")\n",
    "plt.plot(xs[:6], p1.y[:6], \"bx\")"
   ]
  },
  {
   "cell_type": "code",
   "execution_count": 23,
   "id": "e4520d65",
   "metadata": {},
   "outputs": [
    {
     "data": {
      "text/plain": [
       "[<matplotlib.lines.Line2D at 0x7f98d2397bb0>]"
      ]
     },
     "execution_count": 23,
     "metadata": {},
     "output_type": "execute_result"
    },
    {
     "data": {
      "image/png": "[encoded data removed]",
      "text/plain": [
       "<Figure size 432x288 with 1 Axes>"
      ]
     },
     "metadata": {
      "needs_background": "light"
     },
     "output_type": "display_data"
    }
   ],
   "source": [
    "plt.plot(p1.z, p1.r, \"kx\")\n"
   ]
  },
  {
   "cell_type": "code",
   "execution_count": 24,
   "id": "bf9347c5",
   "metadata": {},
   "outputs": [
    {
     "data": {
      "text/html": [
       "<div>\n",
       "<style scoped>\n",
       "    .dataframe tbody tr th:only-of-type {\n",
       "        vertical-align: middle;\n",
       "    }\n",
       "\n",
       "    .dataframe tbody tr th {\n",
       "        vertical-align: top;\n",
       "    }\n",
       "\n",
       "    .dataframe thead th {\n",
       "        text-align: right;\n",
       "    }\n",
       "</style>\n",
       "<table border=\"1\" class=\"dataframe\">\n",
       "  <thead>\n",
       "    <tr style=\"text-align: right;\">\n",
       "      <th></th>\n",
       "      <th>run</th>\n",
       "      <th>lumi</th>\n",
       "      <th>evt</th>\n",
       "      <th>nhit</th>\n",
       "      <th>hit_n</th>\n",
       "      <th>hit_id</th>\n",
       "      <th>x</th>\n",
       "      <th>y</th>\n",
       "      <th>z</th>\n",
       "      <th>particle_id</th>\n",
       "      <th>...</th>\n",
       "      <th>sim_type</th>\n",
       "      <th>sim_id</th>\n",
       "      <th>sim_dxy_sig</th>\n",
       "      <th>sim_pt</th>\n",
       "      <th>sim_eta</th>\n",
       "      <th>sim_phi</th>\n",
       "      <th>volume_id</th>\n",
       "      <th>layer_id</th>\n",
       "      <th>module_id</th>\n",
       "      <th>r</th>\n",
       "    </tr>\n",
       "  </thead>\n",
       "  <tbody>\n",
       "    <tr>\n",
       "      <th>count</th>\n",
       "      <td>136545.0</td>\n",
       "      <td>136545.0</td>\n",
       "      <td>136545.0</td>\n",
       "      <td>136545.0</td>\n",
       "      <td>136545.0</td>\n",
       "      <td>136545.000000</td>\n",
       "      <td>136545.000000</td>\n",
       "      <td>136545.000000</td>\n",
       "      <td>136545.000000</td>\n",
       "      <td>136545.000000</td>\n",
       "      <td>...</td>\n",
       "      <td>136545.000000</td>\n",
       "      <td>136545.000000</td>\n",
       "      <td>1.365450e+05</td>\n",
       "      <td>136545.000000</td>\n",
       "      <td>136545.000000</td>\n",
       "      <td>136545.000000</td>\n",
       "      <td>136545.000000</td>\n",
       "      <td>136545.000000</td>\n",
       "      <td>136545.000000</td>\n",
       "      <td>136545.000000</td>\n",
       "    </tr>\n",
       "    <tr>\n",
       "      <th>mean</th>\n",
       "      <td>1.0</td>\n",
       "      <td>89.0</td>\n",
       "      <td>8805.0</td>\n",
       "      <td>136545.0</td>\n",
       "      <td>136545.0</td>\n",
       "      <td>68272.000000</td>\n",
       "      <td>0.039281</td>\n",
       "      <td>0.062743</td>\n",
       "      <td>0.381808</td>\n",
       "      <td>-8752.203860</td>\n",
       "      <td>...</td>\n",
       "      <td>1.003698</td>\n",
       "      <td>20.554740</td>\n",
       "      <td>7.819369e+02</td>\n",
       "      <td>0.494282</td>\n",
       "      <td>-0.012013</td>\n",
       "      <td>0.019016</td>\n",
       "      <td>2.000242</td>\n",
       "      <td>14.262434</td>\n",
       "      <td>13.232766</td>\n",
       "      <td>9.879258</td>\n",
       "    </tr>\n",
       "    <tr>\n",
       "      <th>std</th>\n",
       "      <td>0.0</td>\n",
       "      <td>0.0</td>\n",
       "      <td>0.0</td>\n",
       "      <td>0.0</td>\n",
       "      <td>0.0</td>\n",
       "      <td>39417.290591</td>\n",
       "      <td>7.942019</td>\n",
       "      <td>7.898574</td>\n",
       "      <td>133.405792</td>\n",
       "      <td>5347.830313</td>\n",
       "      <td>...</td>\n",
       "      <td>0.160676</td>\n",
       "      <td>234.790374</td>\n",
       "      <td>1.712129e+05</td>\n",
       "      <td>0.534124</td>\n",
       "      <td>2.657908</td>\n",
       "      <td>1.817565</td>\n",
       "      <td>0.911901</td>\n",
       "      <td>8.324964</td>\n",
       "      <td>9.520336</td>\n",
       "      <td>5.279312</td>\n",
       "    </tr>\n",
       "    <tr>\n",
       "      <th>min</th>\n",
       "      <td>1.0</td>\n",
       "      <td>89.0</td>\n",
       "      <td>8805.0</td>\n",
       "      <td>136545.0</td>\n",
       "      <td>136545.0</td>\n",
       "      <td>0.000000</td>\n",
       "      <td>-25.363251</td>\n",
       "      <td>-25.355644</td>\n",
       "      <td>-265.600006</td>\n",
       "      <td>-17938.000000</td>\n",
       "      <td>...</td>\n",
       "      <td>0.000000</td>\n",
       "      <td>-1.000000</td>\n",
       "      <td>0.000000e+00</td>\n",
       "      <td>0.013784</td>\n",
       "      <td>-6.343998</td>\n",
       "      <td>-3.141587</td>\n",
       "      <td>1.000000</td>\n",
       "      <td>1.000000</td>\n",
       "      <td>1.000000</td>\n",
       "      <td>2.750000</td>\n",
       "    </tr>\n",
       "    <tr>\n",
       "      <th>25%</th>\n",
       "      <td>1.0</td>\n",
       "      <td>89.0</td>\n",
       "      <td>8805.0</td>\n",
       "      <td>136545.0</td>\n",
       "      <td>136545.0</td>\n",
       "      <td>34136.000000</td>\n",
       "      <td>-5.160401</td>\n",
       "      <td>-5.069293</td>\n",
       "      <td>-84.977997</td>\n",
       "      <td>-13489.000000</td>\n",
       "      <td>...</td>\n",
       "      <td>1.000000</td>\n",
       "      <td>-1.000000</td>\n",
       "      <td>0.000000e+00</td>\n",
       "      <td>0.210673</td>\n",
       "      <td>-2.612116</td>\n",
       "      <td>-1.544864</td>\n",
       "      <td>1.000000</td>\n",
       "      <td>7.000000</td>\n",
       "      <td>6.000000</td>\n",
       "      <td>5.876188</td>\n",
       "    </tr>\n",
       "    <tr>\n",
       "      <th>50%</th>\n",
       "      <td>1.0</td>\n",
       "      <td>89.0</td>\n",
       "      <td>8805.0</td>\n",
       "      <td>136545.0</td>\n",
       "      <td>136545.0</td>\n",
       "      <td>68272.000000</td>\n",
       "      <td>0.024241</td>\n",
       "      <td>0.009855</td>\n",
       "      <td>0.340487</td>\n",
       "      <td>-8617.000000</td>\n",
       "      <td>...</td>\n",
       "      <td>1.000000</td>\n",
       "      <td>-1.000000</td>\n",
       "      <td>0.000000e+00</td>\n",
       "      <td>0.353895</td>\n",
       "      <td>-0.003345</td>\n",
       "      <td>0.010190</td>\n",
       "      <td>2.000000</td>\n",
       "      <td>14.000000</td>\n",
       "      <td>11.000000</td>\n",
       "      <td>8.861179</td>\n",
       "    </tr>\n",
       "    <tr>\n",
       "      <th>75%</th>\n",
       "      <td>1.0</td>\n",
       "      <td>89.0</td>\n",
       "      <td>8805.0</td>\n",
       "      <td>136545.0</td>\n",
       "      <td>136545.0</td>\n",
       "      <td>102408.000000</td>\n",
       "      <td>5.179631</td>\n",
       "      <td>5.234033</td>\n",
       "      <td>84.977997</td>\n",
       "      <td>-3994.000000</td>\n",
       "      <td>...</td>\n",
       "      <td>1.000000</td>\n",
       "      <td>-1.000000</td>\n",
       "      <td>0.000000e+00</td>\n",
       "      <td>0.593256</td>\n",
       "      <td>2.576349</td>\n",
       "      <td>1.590579</td>\n",
       "      <td>3.000000</td>\n",
       "      <td>22.000000</td>\n",
       "      <td>19.000000</td>\n",
       "      <td>13.240804</td>\n",
       "    </tr>\n",
       "    <tr>\n",
       "      <th>max</th>\n",
       "      <td>1.0</td>\n",
       "      <td>89.0</td>\n",
       "      <td>8805.0</td>\n",
       "      <td>136545.0</td>\n",
       "      <td>136545.0</td>\n",
       "      <td>136544.000000</td>\n",
       "      <td>25.326611</td>\n",
       "      <td>25.346134</td>\n",
       "      <td>265.600006</td>\n",
       "      <td>909.000000</td>\n",
       "      <td>...</td>\n",
       "      <td>2.000000</td>\n",
       "      <td>3758.000000</td>\n",
       "      <td>5.947858e+07</td>\n",
       "      <td>34.291618</td>\n",
       "      <td>6.506912</td>\n",
       "      <td>3.141552</td>\n",
       "      <td>3.000000</td>\n",
       "      <td>28.000000</td>\n",
       "      <td>48.000000</td>\n",
       "      <td>25.439730</td>\n",
       "    </tr>\n",
       "  </tbody>\n",
       "</table>\n",
       "<p>8 rows × 24 columns</p>\n",
       "</div>"
      ],
      "text/plain": [
       "            run      lumi       evt      nhit     hit_n         hit_id  \\\n",
       "count  136545.0  136545.0  136545.0  136545.0  136545.0  136545.000000   \n",
       "mean        1.0      89.0    8805.0  136545.0  136545.0   68272.000000   \n",
       "std         0.0       0.0       0.0       0.0       0.0   39417.290591   \n",
       "min         1.0      89.0    8805.0  136545.0  136545.0       0.000000   \n",
       "25%         1.0      89.0    8805.0  136545.0  136545.0   34136.000000   \n",
       "50%         1.0      89.0    8805.0  136545.0  136545.0   68272.000000   \n",
       "75%         1.0      89.0    8805.0  136545.0  136545.0  102408.000000   \n",
       "max         1.0      89.0    8805.0  136545.0  136545.0  136544.000000   \n",
       "\n",
       "                   x              y              z    particle_id  ...  \\\n",
       "count  136545.000000  136545.000000  136545.000000  136545.000000  ...   \n",
       "mean        0.039281       0.062743       0.381808   -8752.203860  ...   \n",
       "std         7.942019       7.898574     133.405792    5347.830313  ...   \n",
       "min       -25.363251     -25.355644    -265.600006  -17938.000000  ...   \n",
       "25%        -5.160401      -5.069293     -84.977997  -13489.000000  ...   \n",
       "50%         0.024241       0.009855       0.340487   -8617.000000  ...   \n",
       "75%         5.179631       5.234033      84.977997   -3994.000000  ...   \n",
       "max        25.326611      25.346134     265.600006     909.000000  ...   \n",
       "\n",
       "            sim_type         sim_id   sim_dxy_sig         sim_pt  \\\n",
       "count  136545.000000  136545.000000  1.365450e+05  136545.000000   \n",
       "mean        1.003698      20.554740  7.819369e+02       0.494282   \n",
       "std         0.160676     234.790374  1.712129e+05       0.534124   \n",
       "min         0.000000      -1.000000  0.000000e+00       0.013784   \n",
       "25%         1.000000      -1.000000  0.000000e+00       0.210673   \n",
       "50%         1.000000      -1.000000  0.000000e+00       0.353895   \n",
       "75%         1.000000      -1.000000  0.000000e+00       0.593256   \n",
       "max         2.000000    3758.000000  5.947858e+07      34.291618   \n",
       "\n",
       "             sim_eta        sim_phi      volume_id       layer_id  \\\n",
       "count  136545.000000  136545.000000  136545.000000  136545.000000   \n",
       "mean       -0.012013       0.019016       2.000242      14.262434   \n",
       "std         2.657908       1.817565       0.911901       8.324964   \n",
       "min        -6.343998      -3.141587       1.000000       1.000000   \n",
       "25%        -2.612116      -1.544864       1.000000       7.000000   \n",
       "50%        -0.003345       0.010190       2.000000      14.000000   \n",
       "75%         2.576349       1.590579       3.000000      22.000000   \n",
       "max         6.506912       3.141552       3.000000      28.000000   \n",
       "\n",
       "           module_id              r  \n",
       "count  136545.000000  136545.000000  \n",
       "mean       13.232766       9.879258  \n",
       "std         9.520336       5.279312  \n",
       "min         1.000000       2.750000  \n",
       "25%         6.000000       5.876188  \n",
       "50%        11.000000       8.861179  \n",
       "75%        19.000000      13.240804  \n",
       "max        48.000000      25.439730  \n",
       "\n",
       "[8 rows x 24 columns]"
      ]
     },
     "execution_count": 24,
     "metadata": {},
     "output_type": "execute_result"
    }
   ],
   "source": [
    "event.describe()"
   ]
  },
  {
   "cell_type": "code",
   "execution_count": 89,
   "id": "8ec805b5",
   "metadata": {},
   "outputs": [],
   "source": [
    "first = event.iloc[0,:]"
   ]
  },
  {
   "cell_type": "code",
   "execution_count": 92,
   "id": "d32a1a1d",
   "metadata": {},
   "outputs": [
    {
     "data": {
      "text/plain": [
       "232.0"
      ]
     },
     "execution_count": 92,
     "metadata": {},
     "output_type": "execute_result"
    }
   ],
   "source": [
    "first.hit_id"
   ]
  },
  {
   "cell_type": "code",
   "execution_count": 93,
   "id": "135a8606",
   "metadata": {},
   "outputs": [],
   "source": [
    "event_wo = event[event['hit_id']!=first.hit_id]"
   ]
  },
  {
   "cell_type": "code",
   "execution_count": 133,
   "id": "76eeff25",
   "metadata": {},
   "outputs": [
    {
     "name": "stdout",
     "output_type": "stream",
     "text": [
      "CPU times: user 20 s, sys: 0 ns, total: 20 s\n",
      "Wall time: 20 s\n"
     ]
    }
   ],
   "source": [
    "%%time \n",
    "\n",
    "distances = [] \n",
    "for ix in range(len(event_wo)): \n",
    "    row = event_wo.iloc[ix, :]\n",
    "    distance = np.abs(first.r-row.r) + np.abs(first.z-row.z)\n",
    "    distances.append(distance)"
   ]
  },
  {
   "cell_type": "code",
   "execution_count": 134,
   "id": "e3a7184d",
   "metadata": {},
   "outputs": [
    {
     "name": "stdout",
     "output_type": "stream",
     "text": [
      "CPU times: user 21.1 ms, sys: 0 ns, total: 21.1 ms\n",
      "Wall time: 20 ms\n"
     ]
    },
    {
     "data": {
      "text/plain": [
       "6700.0"
      ]
     },
     "execution_count": 134,
     "metadata": {},
     "output_type": "execute_result"
    }
   ],
   "source": [
    "%%time\n",
    "event_wo.iloc[np.argmin(distances), ].hit_id"
   ]
  },
  {
   "cell_type": "code",
   "execution_count": 148,
   "id": "a4f7041c",
   "metadata": {},
   "outputs": [
    {
     "name": "stdout",
     "output_type": "stream",
     "text": [
      "CPU times: user 9.54 ms, sys: 10.2 ms, total: 19.8 ms\n",
      "Wall time: 19.3 ms\n"
     ]
    }
   ],
   "source": [
    "%%time\n",
    "rlist = event_wo.r.tolist()\n",
    "zlist = event_wo.z.tolist()"
   ]
  },
  {
   "cell_type": "code",
   "execution_count": 149,
   "id": "2ae9ec66",
   "metadata": {},
   "outputs": [
    {
     "name": "stdout",
     "output_type": "stream",
     "text": [
      "CPU times: user 1.65 s, sys: 4.11 ms, total: 1.66 s\n",
      "Wall time: 1.66 s\n"
     ]
    }
   ],
   "source": [
    "%%time\n",
    "distances = [] \n",
    "for ix in range(len(event_wo)): \n",
    "    distance = np.abs(first.r-rlist[ix]) + np.abs(first.z-zlist[ix])\n",
    "    distances.append(distance)"
   ]
  },
  {
   "cell_type": "code",
   "execution_count": 140,
   "id": "7afd69d9",
   "metadata": {},
   "outputs": [
    {
     "data": {
      "text/plain": [
       "'2'"
      ]
     },
     "execution_count": 140,
     "metadata": {},
     "output_type": "execute_result"
    }
   ],
   "source": [
    "str(200)[0]"
   ]
  },
  {
   "cell_type": "code",
   "execution_count": null,
   "id": "9c44bcc4",
   "metadata": {},
   "outputs": [],
   "source": []
  }
 ],
 "metadata": {
  "kernelspec": {
   "display_name": "Python 3",
   "language": "python",
   "name": "python3"
  },
  "language_info": {
   "codemirror_mode": {
    "name": "ipython",
    "version": 3
   },
   "file_extension": ".py",
   "mimetype": "text/x-python",
   "name": "python",
   "nbconvert_exporter": "python",
   "pygments_lexer": "ipython3",
   "version": "3.8.8"
  }
 },
 "nbformat": 4,
 "nbformat_minor": 5
}
