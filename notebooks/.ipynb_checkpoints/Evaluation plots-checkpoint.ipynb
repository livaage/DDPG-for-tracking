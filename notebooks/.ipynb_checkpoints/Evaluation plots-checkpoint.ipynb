{
 "cells": [
  {
   "cell_type": "code",
   "execution_count": 2,
   "id": "ae973aae",
   "metadata": {},
   "outputs": [],
   "source": [
    "import numpy as np\n",
    "import pandas as pd\n",
    "import matplotlib.pyplot as plt \n",
    "\n",
    "import sys\n",
    "sys.path.append('../dataloader/')\n",
    "import dataloader\n"
   ]
  },
  {
   "cell_type": "code",
   "execution_count": 10,
   "id": "d0cdf67e",
   "metadata": {},
   "outputs": [],
   "source": [
    "df  = dataloader.DataLoader()"
   ]
  },
  {
   "cell_type": "code",
   "execution_count": 103,
   "id": "0fcb5ff6",
   "metadata": {},
   "outputs": [
    {
     "name": "stderr",
     "output_type": "stream",
     "text": [
      "../dataloader/dataloader.py:75: FutureWarning: Indexing with multiple keys (implicitly converted to a tuple of keys) will be deprecated, use a list instead.\n",
      "  self.hits[['next_mod_id', 'connecting_layer_id']] = self.hits.groupby('particle_id')['discrete_module_id', 'unique_layer_id'].shift(-1)\n"
     ]
    }
   ],
   "source": [
    "data = df.load_data(2)"
   ]
  },
  {
   "cell_type": "code",
   "execution_count": 110,
   "id": "2676e064",
   "metadata": {},
   "outputs": [
    {
     "data": {
      "text/plain": [
       "hit_id                 4.975400e+04\n",
       "x                      3.888350e+00\n",
       "y                     -5.775430e-02\n",
       "z                      8.175000e+01\n",
       "r                      3.888779e+00\n",
       "layer_id               6.000000e+00\n",
       "volume_id              9.000000e+00\n",
       "module_id              5.200000e+01\n",
       "phi                   -1.485207e-02\n",
       "particle_id            2.251928e+17\n",
       "pt                     5.436137e-01\n",
       "nhits                  1.300000e+01\n",
       "discrete_module_id     3.515000e+03\n",
       "Unnamed: 0             3.000000e+01\n",
       "unique_layer_id        2.000000e+01\n",
       "next_mod_id            3.518000e+03\n",
       "connecting_layer_id    2.000000e+01\n",
       "Name: 10830, dtype: float64"
      ]
     },
     "execution_count": 110,
     "metadata": {},
     "output_type": "execute_result"
    }
   ],
   "source": [
    "data[(data['z']==81.75) & (data['r']==3.8887787)].squeeze()"
   ]
  },
  {
   "cell_type": "code",
   "execution_count": 41,
   "id": "cfa7d29b",
   "metadata": {},
   "outputs": [
    {
     "data": {
      "text/html": [
       "<div>\n",
       "<style scoped>\n",
       "    .dataframe tbody tr th:only-of-type {\n",
       "        vertical-align: middle;\n",
       "    }\n",
       "\n",
       "    .dataframe tbody tr th {\n",
       "        vertical-align: top;\n",
       "    }\n",
       "\n",
       "    .dataframe thead th {\n",
       "        text-align: right;\n",
       "    }\n",
       "</style>\n",
       "<table border=\"1\" class=\"dataframe\">\n",
       "  <thead>\n",
       "    <tr style=\"text-align: right;\">\n",
       "      <th></th>\n",
       "      <th>hit_id</th>\n",
       "      <th>x</th>\n",
       "      <th>y</th>\n",
       "      <th>z</th>\n",
       "      <th>r</th>\n",
       "      <th>layer_id</th>\n",
       "      <th>volume_id</th>\n",
       "      <th>module_id</th>\n",
       "      <th>phi</th>\n",
       "      <th>particle_id</th>\n",
       "      <th>pt</th>\n",
       "      <th>nhits</th>\n",
       "      <th>discrete_module_id</th>\n",
       "      <th>Unnamed: 0</th>\n",
       "      <th>unique_layer_id</th>\n",
       "      <th>next_mod_id</th>\n",
       "      <th>connecting_layer_id</th>\n",
       "    </tr>\n",
       "  </thead>\n",
       "  <tbody>\n",
       "  </tbody>\n",
       "</table>\n",
       "</div>"
      ],
      "text/plain": [
       "Empty DataFrame\n",
       "Columns: [hit_id, x, y, z, r, layer_id, volume_id, module_id, phi, particle_id, pt, nhits, discrete_module_id, Unnamed: 0, unique_layer_id, next_mod_id, connecting_layer_id]\n",
       "Index: []"
      ]
     },
     "execution_count": 41,
     "metadata": {},
     "output_type": "execute_result"
    }
   ],
   "source": [
    "data[(data['z']==110.19999695) & data['r']==4.59792471]"
   ]
  },
  {
   "cell_type": "code",
   "execution_count": 65,
   "id": "71f116fa",
   "metadata": {},
   "outputs": [],
   "source": [
    "a = np.array([1,1, 1, 2])"
   ]
  },
  {
   "cell_type": "code",
   "execution_count": 66,
   "id": "59556d58",
   "metadata": {},
   "outputs": [
    {
     "data": {
      "text/plain": [
       "3"
      ]
     },
     "execution_count": 66,
     "metadata": {},
     "output_type": "execute_result"
    }
   ],
   "source": [
    "len(np.where(a==1)[0])"
   ]
  },
  {
   "cell_type": "code",
   "execution_count": 67,
   "id": "90535949",
   "metadata": {},
   "outputs": [
    {
     "data": {
      "text/plain": [
       "True"
      ]
     },
     "execution_count": 67,
     "metadata": {},
     "output_type": "execute_result"
    }
   ],
   "source": [
    "-0.0 == 0 "
   ]
  },
  {
   "cell_type": "code",
   "execution_count": 97,
   "id": "674b1490",
   "metadata": {},
   "outputs": [
    {
     "data": {
      "text/plain": [
       "0"
      ]
     },
     "execution_count": 97,
     "metadata": {},
     "output_type": "execute_result"
    }
   ],
   "source": [
    "t[t['hit_id']==12762].index[0]"
   ]
  },
  {
   "cell_type": "code",
   "execution_count": 85,
   "id": "7d5fb887",
   "metadata": {},
   "outputs": [],
   "source": [
    "t = data[data['particle_id']== 6.305279998165811e+16]"
   ]
  },
  {
   "cell_type": "code",
   "execution_count": 102,
   "id": "e13f3e54",
   "metadata": {},
   "outputs": [
    {
     "data": {
      "text/html": [
       "<div>\n",
       "<style scoped>\n",
       "    .dataframe tbody tr th:only-of-type {\n",
       "        vertical-align: middle;\n",
       "    }\n",
       "\n",
       "    .dataframe tbody tr th {\n",
       "        vertical-align: top;\n",
       "    }\n",
       "\n",
       "    .dataframe thead th {\n",
       "        text-align: right;\n",
       "    }\n",
       "</style>\n",
       "<table border=\"1\" class=\"dataframe\">\n",
       "  <thead>\n",
       "    <tr style=\"text-align: right;\">\n",
       "      <th></th>\n",
       "      <th>hit_id</th>\n",
       "      <th>x</th>\n",
       "      <th>y</th>\n",
       "      <th>z</th>\n",
       "      <th>r</th>\n",
       "      <th>layer_id</th>\n",
       "      <th>volume_id</th>\n",
       "      <th>module_id</th>\n",
       "      <th>phi</th>\n",
       "      <th>particle_id</th>\n",
       "      <th>pt</th>\n",
       "      <th>nhits</th>\n",
       "      <th>discrete_module_id</th>\n",
       "      <th>Unnamed: 0</th>\n",
       "      <th>unique_layer_id</th>\n",
       "      <th>next_mod_id</th>\n",
       "      <th>connecting_layer_id</th>\n",
       "    </tr>\n",
       "  </thead>\n",
       "  <tbody>\n",
       "    <tr>\n",
       "      <th>30353</th>\n",
       "      <td>11468</td>\n",
       "      <td>0.734260</td>\n",
       "      <td>8.287140</td>\n",
       "      <td>-69.800003</td>\n",
       "      <td>8.319605</td>\n",
       "      <td>12</td>\n",
       "      <td>7</td>\n",
       "      <td>79</td>\n",
       "      <td>1.482425</td>\n",
       "      <td>6.305280e+16</td>\n",
       "      <td>0.233724</td>\n",
       "      <td>7</td>\n",
       "      <td>618</td>\n",
       "      <td>26</td>\n",
       "      <td>12.0</td>\n",
       "      <td>5131.0</td>\n",
       "      <td>5.0</td>\n",
       "    </tr>\n",
       "    <tr>\n",
       "      <th>55912</th>\n",
       "      <td>64979</td>\n",
       "      <td>9.330410</td>\n",
       "      <td>24.567600</td>\n",
       "      <td>-85.300003</td>\n",
       "      <td>26.279718</td>\n",
       "      <td>2</td>\n",
       "      <td>13</td>\n",
       "      <td>108</td>\n",
       "      <td>1.207837</td>\n",
       "      <td>6.305280e+16</td>\n",
       "      <td>0.233724</td>\n",
       "      <td>7</td>\n",
       "      <td>5131</td>\n",
       "      <td>7</td>\n",
       "      <td>5.0</td>\n",
       "      <td>5957.0</td>\n",
       "      <td>6.0</td>\n",
       "    </tr>\n",
       "    <tr>\n",
       "      <th>61428</th>\n",
       "      <td>71406</td>\n",
       "      <td>17.209801</td>\n",
       "      <td>31.477701</td>\n",
       "      <td>-94.031998</td>\n",
       "      <td>35.875099</td>\n",
       "      <td>4</td>\n",
       "      <td>13</td>\n",
       "      <td>94</td>\n",
       "      <td>1.070467</td>\n",
       "      <td>6.305280e+16</td>\n",
       "      <td>0.233724</td>\n",
       "      <td>7</td>\n",
       "      <td>5957</td>\n",
       "      <td>8</td>\n",
       "      <td>6.0</td>\n",
       "      <td>4957.0</td>\n",
       "      <td>25.0</td>\n",
       "    </tr>\n",
       "    <tr>\n",
       "      <th>74680</th>\n",
       "      <td>64042</td>\n",
       "      <td>48.411400</td>\n",
       "      <td>36.860901</td>\n",
       "      <td>-121.849998</td>\n",
       "      <td>60.847267</td>\n",
       "      <td>12</td>\n",
       "      <td>12</td>\n",
       "      <td>104</td>\n",
       "      <td>0.650763</td>\n",
       "      <td>6.305280e+16</td>\n",
       "      <td>0.233724</td>\n",
       "      <td>7</td>\n",
       "      <td>4957</td>\n",
       "      <td>40</td>\n",
       "      <td>25.0</td>\n",
       "      <td>12181.0</td>\n",
       "      <td>39.0</td>\n",
       "    </tr>\n",
       "    <tr>\n",
       "      <th>79417</th>\n",
       "      <td>97022</td>\n",
       "      <td>76.094704</td>\n",
       "      <td>-9.605400</td>\n",
       "      <td>-179.449997</td>\n",
       "      <td>76.698547</td>\n",
       "      <td>8</td>\n",
       "      <td>16</td>\n",
       "      <td>48</td>\n",
       "      <td>-0.125565</td>\n",
       "      <td>6.305280e+16</td>\n",
       "      <td>0.233724</td>\n",
       "      <td>7</td>\n",
       "      <td>12181</td>\n",
       "      <td>52</td>\n",
       "      <td>39.0</td>\n",
       "      <td>12179.0</td>\n",
       "      <td>39.0</td>\n",
       "    </tr>\n",
       "  </tbody>\n",
       "</table>\n",
       "</div>"
      ],
      "text/plain": [
       "       hit_id          x          y           z          r  layer_id  \\\n",
       "30353   11468   0.734260   8.287140  -69.800003   8.319605        12   \n",
       "55912   64979   9.330410  24.567600  -85.300003  26.279718         2   \n",
       "61428   71406  17.209801  31.477701  -94.031998  35.875099         4   \n",
       "74680   64042  48.411400  36.860901 -121.849998  60.847267        12   \n",
       "79417   97022  76.094704  -9.605400 -179.449997  76.698547         8   \n",
       "\n",
       "       volume_id  module_id       phi   particle_id        pt  nhits  \\\n",
       "30353          7         79  1.482425  6.305280e+16  0.233724      7   \n",
       "55912         13        108  1.207837  6.305280e+16  0.233724      7   \n",
       "61428         13         94  1.070467  6.305280e+16  0.233724      7   \n",
       "74680         12        104  0.650763  6.305280e+16  0.233724      7   \n",
       "79417         16         48 -0.125565  6.305280e+16  0.233724      7   \n",
       "\n",
       "       discrete_module_id  Unnamed: 0  unique_layer_id  next_mod_id  \\\n",
       "30353                 618          26             12.0       5131.0   \n",
       "55912                5131           7              5.0       5957.0   \n",
       "61428                5957           8              6.0       4957.0   \n",
       "74680                4957          40             25.0      12181.0   \n",
       "79417               12181          52             39.0      12179.0   \n",
       "\n",
       "       connecting_layer_id  \n",
       "30353                  5.0  \n",
       "55912                  6.0  \n",
       "61428                 25.0  \n",
       "74680                 39.0  \n",
       "79417                 39.0  "
      ]
     },
     "execution_count": 102,
     "metadata": {},
     "output_type": "execute_result"
    }
   ],
   "source": [
    "t[t['r'] > 8]"
   ]
  },
  {
   "cell_type": "code",
   "execution_count": 93,
   "id": "dbf2e4e5",
   "metadata": {},
   "outputs": [
    {
     "data": {
      "text/plain": [
       "Index(['hit_id', 'x', 'y', 'z', 'r', 'layer_id', 'volume_id', 'module_id',\n",
       "       'phi', 'particle_id', 'pt', 'nhits', 'discrete_module_id', 'Unnamed: 0',\n",
       "       'unique_layer_id', 'next_mod_id', 'connecting_layer_id'],\n",
       "      dtype='object')"
      ]
     },
     "execution_count": 93,
     "metadata": {},
     "output_type": "execute_result"
    }
   ],
   "source": [
    "t.iloc[0].index"
   ]
  },
  {
   "cell_type": "code",
   "execution_count": 89,
   "id": "47bec2c4",
   "metadata": {},
   "outputs": [
    {
     "data": {
      "text/plain": [
       "[<matplotlib.lines.Line2D at 0x7f8d05dda290>]"
      ]
     },
     "execution_count": 89,
     "metadata": {},
     "output_type": "execute_result"
    },
    {
     "data": {
      "image/png": "[encoded data removed]",
      "text/plain": [
       "<Figure size 432x288 with 1 Axes>"
      ]
     },
     "metadata": {
      "needs_background": "light"
     },
     "output_type": "display_data"
    }
   ],
   "source": [
    "plt.plot(t.z, t.r, \"kx\")"
   ]
  },
  {
   "cell_type": "code",
   "execution_count": 33,
   "id": "bf273c53",
   "metadata": {},
   "outputs": [],
   "source": [
    "ep0_all_accuracy = pd.read_csv('/home/lhv14/Downloads/trackml_numClose0_allHits_accuracy.csv')\n",
    "ep0_all_reward = pd.read_csv('/home/lhv14/Downloads/trackml_numClose0_allHits_reward.csv')\n",
    "\n",
    "ep10_all_accuracy = pd.read_csv('/home/lhv14/Downloads/trackml_numClose10_allHits_accuracy.csv')\n",
    "ep10_all_reward = pd.read_csv('/home/lhv14/Downloads/trackml_numClose10_allHits_reward.csv')\n",
    "#ep5 = pd.read_csv('/home/lhv14/Downloads/tensboard_single_5hits_episodic.csv')\n",
    "#ep20 = pd.read_csv('/home/lhv14/Downloads/tensboard_single_20hits_episodic_longer.csv')"
   ]
  },
  {
   "cell_type": "code",
   "execution_count": 17,
   "id": "aa128e1b",
   "metadata": {},
   "outputs": [
    {
     "name": "stdout",
     "output_type": "stream",
     "text": [
      "/home/lhv14/Downloads/trackml_numClose10_allHits_accruacy.csv\r\n",
      "/home/lhv14/Downloads/trackml_numClose10_allHits_reward.csv\r\n"
     ]
    }
   ],
   "source": [
    "!ls /home/lhv14/Downloads/trackml_numClose10*"
   ]
  },
  {
   "cell_type": "code",
   "execution_count": 21,
   "id": "31c402ae",
   "metadata": {},
   "outputs": [],
   "source": [
    "plt.rcParams.update({'font.size': 16})"
   ]
  },
  {
   "cell_type": "code",
   "execution_count": 31,
   "id": "7dfea294",
   "metadata": {},
   "outputs": [
    {
     "data": {
      "text/plain": [
       "Text(0, 0.5, 'average accuracy 40 episodes')"
      ]
     },
     "execution_count": 31,
     "metadata": {},
     "output_type": "execute_result"
    },
    {
     "data": {
      "image/png": "[encoded data removed]",
      "text/plain": [
       "<Figure size 432x288 with 1 Axes>"
      ]
     },
     "metadata": {
      "needs_background": "light"
     },
     "output_type": "display_data"
    }
   ],
   "source": [
    "window_size = 40\n",
    "windows_ep0_all_accuracy = ep0_all_accuracy.Value.rolling(window_size)\n",
    "windows_ep0_all_reward = ep0_all_reward.Value.rolling(window_size)\n",
    "windows_ep10_all_accuracy = ep10_all_accuracy.Value.rolling(window_size)\n",
    "windows_ep10_all_reward = ep10_all_reward.Value.rolling(window_size)\n",
    "# Create a series of moving\n",
    "# averages of each window\n",
    "moving_averages_ep0_all_accuracy = windows_ep0_all_accuracy.mean().dropna()\n",
    "moving_averages_ep0_all_reward = windows_ep0_all_reward.mean().dropna()\n",
    "moving_averages_ep10_all_accuracy = windows_ep10_all_accuracy.mean().dropna()\n",
    "moving_averages_ep10_all_reward = windows_ep10_all_reward.mean().dropna()\n",
    "#moving_averages_ep20 = windows_ep20.mean().dropna()\n",
    "\n",
    "plt.plot(range(len(moving_averages_ep0_all_accuracy)), moving_averages_ep0_all_accuracy, label='closest')\n",
    "plt.plot(range(len(moving_averages_ep10_all_accuracy)), moving_averages_ep10_all_accuracy, label='10 hits')\n",
    "\n",
    "#plt.plot(range(len(moving_averages_ep0_all_reward)), moving_averages_ep0_all_reward, label='reward closest')\n",
    "#plt.plot(range(len(moving_averages_ep20)), moving_averages_ep20, label='20 closest')\n",
    "plt.legend()\n",
    "plt.xlabel('episode')\n",
    "plt.ylabel('average accuracy 40 episodes')"
   ]
  },
  {
   "cell_type": "code",
   "execution_count": 32,
   "id": "2f145a50",
   "metadata": {},
   "outputs": [
    {
     "data": {
      "text/plain": [
       "Text(0, 0.5, 'average reward 40 episodes')"
      ]
     },
     "execution_count": 32,
     "metadata": {},
     "output_type": "execute_result"
    },
    {
     "data": {
      "image/png": "[encoded data removed]",
      "text/plain": [
       "<Figure size 432x288 with 1 Axes>"
      ]
     },
     "metadata": {
      "needs_background": "light"
     },
     "output_type": "display_data"
    }
   ],
   "source": [
    "plt.plot(range(len(moving_averages_ep0_all_reward)), moving_averages_ep0_all_reward, label='closest')\n",
    "plt.plot(range(len(moving_averages_ep10_all_reward)), moving_averages_ep10_all_reward, label='10 hits')\n",
    "\n",
    "plt.legend()\n",
    "plt.xlabel('episode')\n",
    "plt.ylabel('average reward 40 episodes')"
   ]
  },
  {
   "cell_type": "code",
   "execution_count": 117,
   "id": "c7dcbb1b",
   "metadata": {},
   "outputs": [],
   "source": [
    "# Get the window of series\n",
    "# of observations of specified window size\n",
    "window_size = 100\n",
    "windows = ep0.Value.rolling(window_size)\n",
    "  \n",
    "# Create a series of moving\n",
    "# averages of each window\n",
    "moving_averages = windows.mean()\n",
    "  "
   ]
  },
  {
   "cell_type": "code",
   "execution_count": 120,
   "id": "4f87b523",
   "metadata": {},
   "outputs": [],
   "source": [
    "t = moving_averages.dropna()"
   ]
  },
  {
   "cell_type": "code",
   "execution_count": 122,
   "id": "e31b39f5",
   "metadata": {},
   "outputs": [
    {
     "data": {
      "text/plain": [
       "[<matplotlib.lines.Line2D at 0x7f8d05f56f90>]"
      ]
     },
     "execution_count": 122,
     "metadata": {},
     "output_type": "execute_result"
    },
    {
     "data": {
      "image/png": "[encoded data removed]",
      "text/plain": [
       "<Figure size 432x288 with 1 Axes>"
      ]
     },
     "metadata": {
      "needs_background": "light"
     },
     "output_type": "display_data"
    }
   ],
   "source": [
    "plt.plot(range(len(t)), t)"
   ]
  },
  {
   "cell_type": "code",
   "execution_count": 174,
   "id": "ca75a346",
   "metadata": {},
   "outputs": [],
   "source": [
    "output = pd.read_csv('../evaluation/garage_outputs.csv')"
   ]
  },
  {
   "cell_type": "code",
   "execution_count": 151,
   "id": "c0c96d3e",
   "metadata": {},
   "outputs": [],
   "source": [
    "s = output.groupby('particle_id').count() -2"
   ]
  },
  {
   "cell_type": "code",
   "execution_count": 154,
   "id": "a5468372",
   "metadata": {},
   "outputs": [
    {
     "data": {
      "text/plain": [
       "6.46901917199222"
      ]
     },
     "execution_count": 154,
     "metadata": {},
     "output_type": "execute_result"
    }
   ],
   "source": [
    "np.mean(s.filenumber)"
   ]
  },
  {
   "cell_type": "code",
   "execution_count": 163,
   "id": "f2a24e76",
   "metadata": {},
   "outputs": [
    {
     "data": {
      "text/html": [
       "<div>\n",
       "<style scoped>\n",
       "    .dataframe tbody tr th:only-of-type {\n",
       "        vertical-align: middle;\n",
       "    }\n",
       "\n",
       "    .dataframe tbody tr th {\n",
       "        vertical-align: top;\n",
       "    }\n",
       "\n",
       "    .dataframe thead th {\n",
       "        text-align: right;\n",
       "    }\n",
       "</style>\n",
       "<table border=\"1\" class=\"dataframe\">\n",
       "  <thead>\n",
       "    <tr style=\"text-align: right;\">\n",
       "      <th></th>\n",
       "      <th>Wall time</th>\n",
       "      <th>Step</th>\n",
       "      <th>Value</th>\n",
       "    </tr>\n",
       "  </thead>\n",
       "  <tbody>\n",
       "    <tr>\n",
       "      <th>0</th>\n",
       "      <td>1.662450e+09</td>\n",
       "      <td>0</td>\n",
       "      <td>-1.596175</td>\n",
       "    </tr>\n",
       "    <tr>\n",
       "      <th>1</th>\n",
       "      <td>1.662450e+09</td>\n",
       "      <td>1</td>\n",
       "      <td>0.000000</td>\n",
       "    </tr>\n",
       "    <tr>\n",
       "      <th>2</th>\n",
       "      <td>1.662450e+09</td>\n",
       "      <td>2</td>\n",
       "      <td>-8.656883</td>\n",
       "    </tr>\n",
       "    <tr>\n",
       "      <th>3</th>\n",
       "      <td>1.662450e+09</td>\n",
       "      <td>3</td>\n",
       "      <td>-0.142864</td>\n",
       "    </tr>\n",
       "    <tr>\n",
       "      <th>4</th>\n",
       "      <td>1.662450e+09</td>\n",
       "      <td>4</td>\n",
       "      <td>-2.499727</td>\n",
       "    </tr>\n",
       "    <tr>\n",
       "      <th>...</th>\n",
       "      <td>...</td>\n",
       "      <td>...</td>\n",
       "      <td>...</td>\n",
       "    </tr>\n",
       "    <tr>\n",
       "      <th>770</th>\n",
       "      <td>1.662451e+09</td>\n",
       "      <td>770</td>\n",
       "      <td>-1.065974</td>\n",
       "    </tr>\n",
       "    <tr>\n",
       "      <th>771</th>\n",
       "      <td>1.662451e+09</td>\n",
       "      <td>771</td>\n",
       "      <td>-58.157265</td>\n",
       "    </tr>\n",
       "    <tr>\n",
       "      <th>772</th>\n",
       "      <td>1.662451e+09</td>\n",
       "      <td>772</td>\n",
       "      <td>-1.000250</td>\n",
       "    </tr>\n",
       "    <tr>\n",
       "      <th>773</th>\n",
       "      <td>1.662451e+09</td>\n",
       "      <td>773</td>\n",
       "      <td>-41.495998</td>\n",
       "    </tr>\n",
       "    <tr>\n",
       "      <th>774</th>\n",
       "      <td>1.662451e+09</td>\n",
       "      <td>774</td>\n",
       "      <td>-10.712600</td>\n",
       "    </tr>\n",
       "  </tbody>\n",
       "</table>\n",
       "<p>775 rows × 3 columns</p>\n",
       "</div>"
      ],
      "text/plain": [
       "        Wall time  Step      Value\n",
       "0    1.662450e+09     0  -1.596175\n",
       "1    1.662450e+09     1   0.000000\n",
       "2    1.662450e+09     2  -8.656883\n",
       "3    1.662450e+09     3  -0.142864\n",
       "4    1.662450e+09     4  -2.499727\n",
       "..            ...   ...        ...\n",
       "770  1.662451e+09   770  -1.065974\n",
       "771  1.662451e+09   771 -58.157265\n",
       "772  1.662451e+09   772  -1.000250\n",
       "773  1.662451e+09   773 -41.495998\n",
       "774  1.662451e+09   774 -10.712600\n",
       "\n",
       "[775 rows x 3 columns]"
      ]
     },
     "execution_count": 163,
     "metadata": {},
     "output_type": "execute_result"
    }
   ],
   "source": [
    "ep0"
   ]
  },
  {
   "cell_type": "code",
   "execution_count": 183,
   "id": "ebdfb9e0",
   "metadata": {},
   "outputs": [],
   "source": [
    "end = output.iloc[-200:]"
   ]
  },
  {
   "cell_type": "code",
   "execution_count": 184,
   "id": "7479da71",
   "metadata": {},
   "outputs": [
    {
     "data": {
      "text/plain": [
       "0.06"
      ]
     },
     "execution_count": 184,
     "metadata": {},
     "output_type": "execute_result"
    }
   ],
   "source": [
    "len(end[end['reward']==10])/200"
   ]
  },
  {
   "cell_type": "code",
   "execution_count": null,
   "id": "29b00d8c",
   "metadata": {},
   "outputs": [],
   "source": []
  }
 ],
 "metadata": {
  "kernelspec": {
   "display_name": "Python 3 (ipykernel)",
   "language": "python",
   "name": "python3"
  },
  "language_info": {
   "codemirror_mode": {
    "name": "ipython",
    "version": 3
   },
   "file_extension": ".py",
   "mimetype": "text/x-python",
   "name": "python",
   "nbconvert_exporter": "python",
   "pygments_lexer": "ipython3",
   "version": "3.7.11"
  }
 },
 "nbformat": 4,
 "nbformat_minor": 5
}
