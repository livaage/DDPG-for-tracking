{
 "cells": [
  {
   "cell_type": "code",
   "execution_count": 11,
   "id": "c2dc7326",
   "metadata": {},
   "outputs": [],
   "source": [
    "import pandas as pd\n",
    "import numpy as np\n",
    "import matplotlib.pyplot as plt \n",
    "import sys\n",
    "#sys.path.append('../utils')\n",
    "sys.path.append('../')\n",
    "\n",
    "from dataloaders.dataloader import DataLoader \n",
    "from utils.find_compatible_hits_dev import Find_Compatible_Hits_ModuleMap_Line_New\n",
    "import keras\n",
    "from tqdm import tqdm"
   ]
  },
  {
   "cell_type": "code",
   "execution_count": 12,
   "id": "5610f0d1",
   "metadata": {},
   "outputs": [],
   "source": [
    "dl = DataLoader() \n",
    "hits, allowed_pids = dl.load_data_trackml(0)"
   ]
  },
  {
   "cell_type": "code",
   "execution_count": 13,
   "id": "9629b68a",
   "metadata": {},
   "outputs": [],
   "source": [
    "allowed_tracks = hits[hits['particle_id'].isin(allowed_pids)]"
   ]
  },
  {
   "cell_type": "code",
   "execution_count": 14,
   "id": "33d75051",
   "metadata": {},
   "outputs": [
    {
     "name": "stderr",
     "output_type": "stream",
     "text": [
      "/home/lhv14/anaconda3/envs/garage/lib/python3.7/site-packages/ipykernel_launcher.py:3: SettingWithCopyWarning: \n",
      "A value is trying to be set on a copy of a slice from a DataFrame.\n",
      "Try using .loc[row_indexer,col_indexer] = value instead\n",
      "\n",
      "See the caveats in the documentation: https://pandas.pydata.org/pandas-docs/stable/user_guide/indexing.html#returning-a-view-versus-a-copy\n",
      "  This is separate from the ipykernel package so we can avoid doing imports until\n",
      "/home/lhv14/anaconda3/envs/garage/lib/python3.7/site-packages/ipykernel_launcher.py:4: SettingWithCopyWarning: \n",
      "A value is trying to be set on a copy of a slice from a DataFrame.\n",
      "Try using .loc[row_indexer,col_indexer] = value instead\n",
      "\n",
      "See the caveats in the documentation: https://pandas.pydata.org/pandas-docs/stable/user_guide/indexing.html#returning-a-view-versus-a-copy\n",
      "  after removing the cwd from sys.path.\n"
     ]
    }
   ],
   "source": [
    "allowed_tracks[['prev_z', 'prev_r']] = allowed_tracks.groupby('particle_id')[['z', 'r']].shift(1)\n",
    "allowed_tracks[['prev_prev_z', 'prev_prev_r']] = allowed_tracks.groupby('particle_id')[['prev_z', 'prev_r']].shift(1)\n",
    "allowed_tracks['m'] = (allowed_tracks['prev_r'] - allowed_tracks['prev_prev_r'])/(allowed_tracks['prev_z'] - allowed_tracks['prev_prev_z'])\n",
    "allowed_tracks['b'] = allowed_tracks['prev_r'] - allowed_tracks['m']*allowed_tracks['prev_z']\n",
    "allowed_tracks[['next_r', 'next_z', 'next_hit_id']] = allowed_tracks.groupby('particle_id')[['r', 'z', 'hit_id']].shift(-1)\n",
    "allowed_tracks = allowed_tracks.dropna()"
   ]
  },
  {
   "cell_type": "code",
   "execution_count": 15,
   "id": "5f6fe4b3",
   "metadata": {},
   "outputs": [],
   "source": [
    "pid = allowed_pids[0]"
   ]
  },
  {
   "cell_type": "code",
   "execution_count": 16,
   "id": "43a59749",
   "metadata": {},
   "outputs": [],
   "source": [
    "comp = Find_Compatible_Hits_ModuleMap_Line_New(hits)"
   ]
  },
  {
   "cell_type": "code",
   "execution_count": 17,
   "id": "c3a9fd63",
   "metadata": {},
   "outputs": [
    {
     "name": "stderr",
     "output_type": "stream",
     "text": [
      "  1%|█▏                                                                                                                   | 10/1000 [00:00<01:37, 10.17it/s]"
     ]
    },
    {
     "name": "stdout",
     "output_type": "stream",
     "text": [
      "mwhahha I went here loliz\n"
     ]
    },
    {
     "name": "stderr",
     "output_type": "stream",
     "text": [
      "  6%|███████▎                                                                                                             | 62/1000 [00:07<01:50,  8.51it/s]"
     ]
    },
    {
     "name": "stdout",
     "output_type": "stream",
     "text": [
      "mwhahha I went here loliz\n"
     ]
    },
    {
     "name": "stderr",
     "output_type": "stream",
     "text": [
      "  7%|████████▌                                                                                                            | 73/1000 [00:08<01:57,  7.91it/s]"
     ]
    },
    {
     "name": "stdout",
     "output_type": "stream",
     "text": [
      "mwhahha I went here loliz\n"
     ]
    },
    {
     "name": "stderr",
     "output_type": "stream",
     "text": [
      "  8%|█████████▌                                                                                                           | 82/1000 [00:10<02:06,  7.24it/s]"
     ]
    },
    {
     "name": "stdout",
     "output_type": "stream",
     "text": [
      "mwhahha I went here loliz\n"
     ]
    },
    {
     "name": "stderr",
     "output_type": "stream",
     "text": [
      " 14%|███████████████▋                                                                                                    | 135/1000 [00:16<01:46,  8.15it/s]"
     ]
    },
    {
     "name": "stdout",
     "output_type": "stream",
     "text": [
      "mwhahha I went here loliz\n"
     ]
    },
    {
     "name": "stderr",
     "output_type": "stream",
     "text": [
      " 15%|█████████████████▋                                                                                                  | 152/1000 [00:18<01:35,  8.84it/s]"
     ]
    },
    {
     "name": "stdout",
     "output_type": "stream",
     "text": [
      "mwhahha I went here loliz\n"
     ]
    },
    {
     "name": "stderr",
     "output_type": "stream",
     "text": [
      " 18%|████████████████████▌                                                                                               | 177/1000 [00:21<02:21,  5.81it/s]"
     ]
    },
    {
     "name": "stdout",
     "output_type": "stream",
     "text": [
      "mwhahha I went here loliz\n",
      "mwhahha I went here loliz\n"
     ]
    },
    {
     "name": "stderr",
     "output_type": "stream",
     "text": [
      " 20%|███████████████████████▌                                                                                            | 203/1000 [00:24<01:45,  7.54it/s]"
     ]
    },
    {
     "name": "stdout",
     "output_type": "stream",
     "text": [
      "mwhahha I went here loliz\n"
     ]
    },
    {
     "name": "stderr",
     "output_type": "stream",
     "text": [
      " 21%|███████████████████████▉                                                                                            | 206/1000 [00:25<01:43,  7.71it/s]"
     ]
    },
    {
     "name": "stdout",
     "output_type": "stream",
     "text": [
      "mwhahha I went here loliz\n"
     ]
    },
    {
     "name": "stderr",
     "output_type": "stream",
     "text": [
      " 23%|██████████████████████████▍                                                                                         | 228/1000 [00:27<01:30,  8.53it/s]"
     ]
    },
    {
     "name": "stdout",
     "output_type": "stream",
     "text": [
      "mwhahha I went here loliz\n"
     ]
    },
    {
     "name": "stderr",
     "output_type": "stream",
     "text": [
      " 26%|█████████████████████████████▊                                                                                      | 257/1000 [00:31<01:17,  9.58it/s]"
     ]
    },
    {
     "name": "stdout",
     "output_type": "stream",
     "text": [
      "mwhahha I went here loliz\n"
     ]
    },
    {
     "name": "stderr",
     "output_type": "stream",
     "text": [
      " 32%|█████████████████████████████████████▍                                                                              | 323/1000 [00:38<01:21,  8.28it/s]"
     ]
    },
    {
     "name": "stdout",
     "output_type": "stream",
     "text": [
      "mwhahha I went here loliz\n"
     ]
    },
    {
     "name": "stderr",
     "output_type": "stream",
     "text": [
      " 33%|██████████████████████████████████████▋                                                                             | 333/1000 [00:40<01:21,  8.17it/s]"
     ]
    },
    {
     "name": "stdout",
     "output_type": "stream",
     "text": [
      "mwhahha I went here loliz\n"
     ]
    },
    {
     "name": "stderr",
     "output_type": "stream",
     "text": [
      " 37%|██████████████████████████████████████████▋                                                                         | 368/1000 [00:44<01:12,  8.75it/s]"
     ]
    },
    {
     "name": "stdout",
     "output_type": "stream",
     "text": [
      "mwhahha I went here loliz\n"
     ]
    },
    {
     "name": "stderr",
     "output_type": "stream",
     "text": [
      " 38%|███████████████████████████████████████████▉                                                                        | 379/1000 [00:45<00:58, 10.59it/s]"
     ]
    },
    {
     "name": "stdout",
     "output_type": "stream",
     "text": [
      "mwhahha I went here loliz\n"
     ]
    },
    {
     "name": "stderr",
     "output_type": "stream",
     "text": [
      " 42%|████████████████████████████████████████████████▌                                                                   | 419/1000 [00:49<01:23,  6.99it/s]"
     ]
    },
    {
     "name": "stdout",
     "output_type": "stream",
     "text": [
      "mwhahha I went here loliz\n"
     ]
    },
    {
     "name": "stderr",
     "output_type": "stream",
     "text": [
      " 47%|██████████████████████████████████████████████████████▋                                                             | 471/1000 [00:56<00:58,  9.01it/s]"
     ]
    },
    {
     "name": "stdout",
     "output_type": "stream",
     "text": [
      "mwhahha I went here loliz\n"
     ]
    },
    {
     "name": "stderr",
     "output_type": "stream",
     "text": [
      " 51%|██████████████████████████████████████████████████████████▋                                                         | 506/1000 [01:00<01:03,  7.78it/s]"
     ]
    },
    {
     "name": "stdout",
     "output_type": "stream",
     "text": [
      "mwhahha I went here loliz\n"
     ]
    },
    {
     "name": "stderr",
     "output_type": "stream",
     "text": [
      " 58%|███████████████████████████████████████████████████████████████████▍                                                | 581/1000 [01:09<01:01,  6.82it/s]"
     ]
    },
    {
     "name": "stdout",
     "output_type": "stream",
     "text": [
      "mwhahha I went here loliz\n",
      "mwhahha I went here loliz\n"
     ]
    },
    {
     "name": "stderr",
     "output_type": "stream",
     "text": [
      " 59%|████████████████████████████████████████████████████████████████████▎                                               | 589/1000 [01:10<00:51,  7.98it/s]"
     ]
    },
    {
     "name": "stdout",
     "output_type": "stream",
     "text": [
      "mwhahha I went here loliz\n"
     ]
    },
    {
     "name": "stderr",
     "output_type": "stream",
     "text": [
      " 64%|██████████████████████████████████████████████████████████████████████████                                          | 639/1000 [01:16<00:53,  6.72it/s]"
     ]
    },
    {
     "name": "stdout",
     "output_type": "stream",
     "text": [
      "mwhahha I went here loliz\n"
     ]
    },
    {
     "name": "stderr",
     "output_type": "stream",
     "text": [
      " 68%|███████████████████████████████████████████████████████████████████████████████▎                                    | 684/1000 [01:23<00:38,  8.29it/s]"
     ]
    },
    {
     "name": "stdout",
     "output_type": "stream",
     "text": [
      "mwhahha I went here loliz\n"
     ]
    },
    {
     "name": "stderr",
     "output_type": "stream",
     "text": [
      " 70%|█████████████████████████████████████████████████████████████████████████████████▎                                  | 701/1000 [01:26<00:38,  7.77it/s]"
     ]
    },
    {
     "name": "stdout",
     "output_type": "stream",
     "text": [
      "mwhahha I went here loliz\n"
     ]
    },
    {
     "name": "stderr",
     "output_type": "stream",
     "text": [
      " 75%|███████████████████████████████████████████████████████████████████████████████████████▎                            | 753/1000 [01:33<00:33,  7.32it/s]"
     ]
    },
    {
     "name": "stdout",
     "output_type": "stream",
     "text": [
      "mwhahha I went here loliz\n"
     ]
    },
    {
     "name": "stderr",
     "output_type": "stream",
     "text": [
      " 80%|████████████████████████████████████████████████████████████████████████████████████████████▉                       | 801/1000 [01:39<00:28,  6.98it/s]"
     ]
    },
    {
     "name": "stdout",
     "output_type": "stream",
     "text": [
      "mwhahha I went here loliz\n"
     ]
    },
    {
     "name": "stderr",
     "output_type": "stream",
     "text": [
      " 81%|██████████████████████████████████████████████████████████████████████████████████████████████                      | 811/1000 [01:41<00:46,  4.10it/s]"
     ]
    },
    {
     "name": "stdout",
     "output_type": "stream",
     "text": [
      "mwhahha I went here loliz\n"
     ]
    },
    {
     "name": "stderr",
     "output_type": "stream",
     "text": [
      " 84%|█████████████████████████████████████████████████████████████████████████████████████████████████▏                  | 838/1000 [01:44<00:21,  7.37it/s]"
     ]
    },
    {
     "name": "stdout",
     "output_type": "stream",
     "text": [
      "mwhahha I went here loliz\n"
     ]
    },
    {
     "name": "stderr",
     "output_type": "stream",
     "text": [
      " 88%|█████████████████████████████████████████████████████████████████████████████████████████████████████▊              | 878/1000 [01:49<00:14,  8.50it/s]"
     ]
    },
    {
     "name": "stdout",
     "output_type": "stream",
     "text": [
      "mwhahha I went here loliz\n"
     ]
    },
    {
     "name": "stderr",
     "output_type": "stream",
     "text": [
      " 88%|██████████████████████████████████████████████████████████████████████████████████████████████████████▌             | 884/1000 [01:50<00:16,  6.88it/s]"
     ]
    },
    {
     "name": "stdout",
     "output_type": "stream",
     "text": [
      "mwhahha I went here loliz\n"
     ]
    },
    {
     "name": "stderr",
     "output_type": "stream",
     "text": [
      " 90%|████████████████████████████████████████████████████████████████████████████████████████████████████████▊           | 904/1000 [01:52<00:12,  7.63it/s]"
     ]
    },
    {
     "name": "stdout",
     "output_type": "stream",
     "text": [
      "mwhahha I went here loliz\n"
     ]
    },
    {
     "name": "stderr",
     "output_type": "stream",
     "text": [
      " 97%|████████████████████████████████████████████████████████████████████████████████████████████████████████████████▉   | 974/1000 [02:01<00:03,  7.81it/s]"
     ]
    },
    {
     "name": "stdout",
     "output_type": "stream",
     "text": [
      "mwhahha I went here loliz\n"
     ]
    },
    {
     "name": "stderr",
     "output_type": "stream",
     "text": [
      " 99%|███████████████████████████████████████████████████████████████████████████████████████████████████████████████████▏| 993/1000 [02:04<00:00,  7.84it/s]"
     ]
    },
    {
     "name": "stdout",
     "output_type": "stream",
     "text": [
      "mwhahha I went here loliz\n"
     ]
    },
    {
     "name": "stderr",
     "output_type": "stream",
     "text": [
      "100%|███████████████████████████████████████████████████████████████████████████████████████████████████████████████████| 1000/1000 [02:04<00:00,  8.01it/s]\n"
     ]
    }
   ],
   "source": [
    "ans = pd.DataFrame({})\n",
    "num_close = 0 \n",
    "\n",
    "\n",
    "for pid in tqdm(np.unique(allowed_tracks.particle_id)[:1000]): \n",
    "    p = allowed_tracks[allowed_tracks['particle_id']==pid]\n",
    "    for index, row in p.iterrows(): \n",
    "        comp_hits = comp.get_comp_hits_notrow(row.z, row.r, row.m, row.m, num_close)[0]\n",
    "        comp_hits[['prev_hit_id', 'prev_z', 'prev_r', 'prev_pid', 'correct_z','correct_r']] = row[['hit_id', 'z', 'r', 'particle_id', 'next_z', 'next_r']]\n",
    "        comp_hits['is_correct'] = list(map(int, (comp_hits['correct_z'] == comp_hits['z']) & (comp_hits['correct_r'] == comp_hits['r']).values))\n",
    "        ans = pd.concat([ans, comp_hits], axis=0)"
   ]
  },
  {
   "cell_type": "code",
   "execution_count": 18,
   "id": "508b727f",
   "metadata": {},
   "outputs": [
    {
     "data": {
      "text/plain": [
       "0.9088835671114152"
      ]
     },
     "execution_count": 18,
     "metadata": {},
     "output_type": "execute_result"
    }
   ],
   "source": [
    "sum(ans['is_correct'])*10/len(ans)"
   ]
  },
  {
   "cell_type": "code",
   "execution_count": 19,
   "id": "e7a9688a",
   "metadata": {},
   "outputs": [
    {
     "data": {
      "text/html": [
       "<div>\n",
       "<style scoped>\n",
       "    .dataframe tbody tr th:only-of-type {\n",
       "        vertical-align: middle;\n",
       "    }\n",
       "\n",
       "    .dataframe tbody tr th {\n",
       "        vertical-align: top;\n",
       "    }\n",
       "\n",
       "    .dataframe thead th {\n",
       "        text-align: right;\n",
       "    }\n",
       "</style>\n",
       "<table border=\"1\" class=\"dataframe\">\n",
       "  <thead>\n",
       "    <tr style=\"text-align: right;\">\n",
       "      <th></th>\n",
       "      <th>hit_id</th>\n",
       "      <th>x</th>\n",
       "      <th>y</th>\n",
       "      <th>z</th>\n",
       "      <th>r</th>\n",
       "      <th>layer_id</th>\n",
       "      <th>volume_id</th>\n",
       "      <th>module_id</th>\n",
       "      <th>phi</th>\n",
       "      <th>particle_id</th>\n",
       "      <th>...</th>\n",
       "      <th>unique_layer_id</th>\n",
       "      <th>z_2</th>\n",
       "      <th>diff_z</th>\n",
       "      <th>prev_hit_id</th>\n",
       "      <th>prev_z</th>\n",
       "      <th>prev_r</th>\n",
       "      <th>prev_pid</th>\n",
       "      <th>correct_z</th>\n",
       "      <th>correct_r</th>\n",
       "      <th>is_correct</th>\n",
       "    </tr>\n",
       "  </thead>\n",
       "  <tbody>\n",
       "    <tr>\n",
       "      <th>65873</th>\n",
       "      <td>48149.0</td>\n",
       "      <td>46.053799</td>\n",
       "      <td>-41.4884</td>\n",
       "      <td>-294.549988</td>\n",
       "      <td>61.985802</td>\n",
       "      <td>2.0</td>\n",
       "      <td>12.0</td>\n",
       "      <td>67.0</td>\n",
       "      <td>-0.733295</td>\n",
       "      <td>3.332852e+17</td>\n",
       "      <td>...</td>\n",
       "      <td>30.0</td>\n",
       "      <td>NaN</td>\n",
       "      <td>NaN</td>\n",
       "      <td>49139.0</td>\n",
       "      <td>-255.149994</td>\n",
       "      <td>53.487598</td>\n",
       "      <td>2.116709e+17</td>\n",
       "      <td>-294.850006</td>\n",
       "      <td>61.908325</td>\n",
       "      <td>0</td>\n",
       "    </tr>\n",
       "    <tr>\n",
       "      <th>65873</th>\n",
       "      <td>48149.0</td>\n",
       "      <td>46.053799</td>\n",
       "      <td>-41.4884</td>\n",
       "      <td>-294.549988</td>\n",
       "      <td>61.985802</td>\n",
       "      <td>2.0</td>\n",
       "      <td>12.0</td>\n",
       "      <td>67.0</td>\n",
       "      <td>-0.733295</td>\n",
       "      <td>3.332852e+17</td>\n",
       "      <td>...</td>\n",
       "      <td>30.0</td>\n",
       "      <td>NaN</td>\n",
       "      <td>NaN</td>\n",
       "      <td>49139.0</td>\n",
       "      <td>-255.149994</td>\n",
       "      <td>53.487598</td>\n",
       "      <td>2.116709e+17</td>\n",
       "      <td>-294.850006</td>\n",
       "      <td>61.908325</td>\n",
       "      <td>0</td>\n",
       "    </tr>\n",
       "  </tbody>\n",
       "</table>\n",
       "<p>2 rows × 25 columns</p>\n",
       "</div>"
      ],
      "text/plain": [
       "        hit_id          x        y           z          r  layer_id  \\\n",
       "65873  48149.0  46.053799 -41.4884 -294.549988  61.985802       2.0   \n",
       "65873  48149.0  46.053799 -41.4884 -294.549988  61.985802       2.0   \n",
       "\n",
       "       volume_id  module_id       phi   particle_id  ...  unique_layer_id  \\\n",
       "65873       12.0       67.0 -0.733295  3.332852e+17  ...             30.0   \n",
       "65873       12.0       67.0 -0.733295  3.332852e+17  ...             30.0   \n",
       "\n",
       "       z_2  diff_z  prev_hit_id      prev_z     prev_r      prev_pid  \\\n",
       "65873  NaN     NaN      49139.0 -255.149994  53.487598  2.116709e+17   \n",
       "65873  NaN     NaN      49139.0 -255.149994  53.487598  2.116709e+17   \n",
       "\n",
       "        correct_z  correct_r  is_correct  \n",
       "65873 -294.850006  61.908325           0  \n",
       "65873 -294.850006  61.908325           0  \n",
       "\n",
       "[2 rows x 25 columns]"
      ]
     },
     "execution_count": 19,
     "metadata": {},
     "output_type": "execute_result"
    }
   ],
   "source": [
    "comp_hits"
   ]
  },
  {
   "cell_type": "code",
   "execution_count": 6,
   "id": "2b6d1736",
   "metadata": {},
   "outputs": [
    {
     "data": {
      "text/plain": [
       "hit_id                1.249400e+04\n",
       "x                    -6.984370e-01\n",
       "y                     2.979700e+00\n",
       "z                    -6.020000e+01\n",
       "r                     3.060462e+00\n",
       "layer_id              1.400000e+01\n",
       "volume_id             7.000000e+00\n",
       "module_id             8.200000e+01\n",
       "phi                   1.801038e+00\n",
       "particle_id           5.314248e+17\n",
       "pt                    6.672413e-01\n",
       "nhits                 1.600000e+01\n",
       "q                     1.000000e+00\n",
       "discrete_module_id    7.290000e+02\n",
       "Unnamed: 0            2.500000e+01\n",
       "unique_layer_id       1.100000e+01\n",
       "z_2                  -6.975000e+01\n",
       "diff_z               -9.549999e+00\n",
       "prev_z               -6.025000e+01\n",
       "prev_r                3.059587e+00\n",
       "prev_prev_z          -5.975000e+01\n",
       "prev_prev_r           3.036588e+00\n",
       "m                    -4.599857e-02\n",
       "b                     2.881734e-01\n",
       "next_r                3.537262e+00\n",
       "next_z               -6.975000e+01\n",
       "next_hit_id           1.014600e+04\n",
       "Name: 86, dtype: float64"
      ]
     },
     "execution_count": 6,
     "metadata": {},
     "output_type": "execute_result"
    }
   ],
   "source": [
    "row = allowed_tracks.iloc[0]\n",
    "row"
   ]
  },
  {
   "cell_type": "code",
   "execution_count": 11,
   "id": "425a39be",
   "metadata": {},
   "outputs": [],
   "source": [
    "num_close = 10 \n",
    "comp_hits = comp.get_comp_hits_notrow(row.z, row.r, row.m, row.m, num_close)[0]"
   ]
  },
  {
   "cell_type": "code",
   "execution_count": 14,
   "id": "627bd3a5",
   "metadata": {},
   "outputs": [
    {
     "data": {
      "text/html": [
       "<div>\n",
       "<style scoped>\n",
       "    .dataframe tbody tr th:only-of-type {\n",
       "        vertical-align: middle;\n",
       "    }\n",
       "\n",
       "    .dataframe tbody tr th {\n",
       "        vertical-align: top;\n",
       "    }\n",
       "\n",
       "    .dataframe thead th {\n",
       "        text-align: right;\n",
       "    }\n",
       "</style>\n",
       "<table border=\"1\" class=\"dataframe\">\n",
       "  <thead>\n",
       "    <tr style=\"text-align: right;\">\n",
       "      <th></th>\n",
       "      <th>hit_id</th>\n",
       "      <th>x</th>\n",
       "      <th>y</th>\n",
       "      <th>z</th>\n",
       "      <th>r</th>\n",
       "      <th>layer_id</th>\n",
       "      <th>volume_id</th>\n",
       "      <th>module_id</th>\n",
       "      <th>phi</th>\n",
       "      <th>particle_id</th>\n",
       "      <th>...</th>\n",
       "      <th>diff_z</th>\n",
       "      <th>prev_z</th>\n",
       "      <th>prev_r</th>\n",
       "      <th>prev_prev_z</th>\n",
       "      <th>prev_prev_r</th>\n",
       "      <th>m</th>\n",
       "      <th>b</th>\n",
       "      <th>next_r</th>\n",
       "      <th>next_z</th>\n",
       "      <th>next_hit_id</th>\n",
       "    </tr>\n",
       "  </thead>\n",
       "  <tbody>\n",
       "  </tbody>\n",
       "</table>\n",
       "<p>0 rows × 27 columns</p>\n",
       "</div>"
      ],
      "text/plain": [
       "Empty DataFrame\n",
       "Columns: [hit_id, x, y, z, r, layer_id, volume_id, module_id, phi, particle_id, pt, nhits, q, discrete_module_id, Unnamed: 0, unique_layer_id, z_2, diff_z, prev_z, prev_r, prev_prev_z, prev_prev_r, m, b, next_r, next_z, next_hit_id]\n",
       "Index: []\n",
       "\n",
       "[0 rows x 27 columns]"
      ]
     },
     "execution_count": 14,
     "metadata": {},
     "output_type": "execute_result"
    }
   ],
   "source": [
    "pd.merge(pd.DataFrame([row]), comp_hits)"
   ]
  },
  {
   "cell_type": "code",
   "execution_count": 25,
   "id": "2641c0e8",
   "metadata": {},
   "outputs": [],
   "source": [
    "comp_hits[['prev_hit_id', 'prev_z', 'prev_r', 'prev_pid', 'correct_z','correct_r']] = row[['hit_id', 'z', 'r', 'particle_id', 'next_z', 'next_r']]"
   ]
  },
  {
   "cell_type": "code",
   "execution_count": 35,
   "id": "f258b469",
   "metadata": {},
   "outputs": [],
   "source": [
    "comp_hits['is_correct'] = list(map(int, (comp_hits['correct_z'] == comp_hits['z']) & (comp_hits['correct_r'] == comp_hits['r']).values))"
   ]
  },
  {
   "cell_type": "code",
   "execution_count": 36,
   "id": "5f9c63de",
   "metadata": {},
   "outputs": [
    {
     "data": {
      "text/html": [
       "<div>\n",
       "<style scoped>\n",
       "    .dataframe tbody tr th:only-of-type {\n",
       "        vertical-align: middle;\n",
       "    }\n",
       "\n",
       "    .dataframe tbody tr th {\n",
       "        vertical-align: top;\n",
       "    }\n",
       "\n",
       "    .dataframe thead th {\n",
       "        text-align: right;\n",
       "    }\n",
       "</style>\n",
       "<table border=\"1\" class=\"dataframe\">\n",
       "  <thead>\n",
       "    <tr style=\"text-align: right;\">\n",
       "      <th></th>\n",
       "      <th>hit_id</th>\n",
       "      <th>x</th>\n",
       "      <th>y</th>\n",
       "      <th>z</th>\n",
       "      <th>r</th>\n",
       "      <th>layer_id</th>\n",
       "      <th>volume_id</th>\n",
       "      <th>module_id</th>\n",
       "      <th>phi</th>\n",
       "      <th>particle_id</th>\n",
       "      <th>...</th>\n",
       "      <th>unique_layer_id</th>\n",
       "      <th>z_2</th>\n",
       "      <th>diff_z</th>\n",
       "      <th>prev_hit_id</th>\n",
       "      <th>prev_z</th>\n",
       "      <th>prev_r</th>\n",
       "      <th>prev_pid</th>\n",
       "      <th>correct_z</th>\n",
       "      <th>correct_r</th>\n",
       "      <th>is_correct</th>\n",
       "    </tr>\n",
       "  </thead>\n",
       "  <tbody>\n",
       "    <tr>\n",
       "      <th>1806</th>\n",
       "      <td>10497</td>\n",
       "      <td>-2.756000</td>\n",
       "      <td>1.551070</td>\n",
       "      <td>-70.250000</td>\n",
       "      <td>3.162492</td>\n",
       "      <td>12</td>\n",
       "      <td>7</td>\n",
       "      <td>98</td>\n",
       "      <td>2.628977</td>\n",
       "      <td>369296543833915392</td>\n",
       "      <td>...</td>\n",
       "      <td>12.0</td>\n",
       "      <td>-81.750000</td>\n",
       "      <td>-11.500000</td>\n",
       "      <td>12494.0</td>\n",
       "      <td>-60.200001</td>\n",
       "      <td>3.060462</td>\n",
       "      <td>5.314248e+17</td>\n",
       "      <td>-69.75</td>\n",
       "      <td>3.537262</td>\n",
       "      <td>0</td>\n",
       "    </tr>\n",
       "    <tr>\n",
       "      <th>2094</th>\n",
       "      <td>9982</td>\n",
       "      <td>0.282787</td>\n",
       "      <td>3.159080</td>\n",
       "      <td>-70.250000</td>\n",
       "      <td>3.171711</td>\n",
       "      <td>12</td>\n",
       "      <td>7</td>\n",
       "      <td>77</td>\n",
       "      <td>1.481519</td>\n",
       "      <td>544935829789736960</td>\n",
       "      <td>...</td>\n",
       "      <td>12.0</td>\n",
       "      <td>-81.800003</td>\n",
       "      <td>-11.550003</td>\n",
       "      <td>12494.0</td>\n",
       "      <td>-60.200001</td>\n",
       "      <td>3.060462</td>\n",
       "      <td>5.314248e+17</td>\n",
       "      <td>-69.75</td>\n",
       "      <td>3.537262</td>\n",
       "      <td>0</td>\n",
       "    </tr>\n",
       "    <tr>\n",
       "      <th>1840</th>\n",
       "      <td>9132</td>\n",
       "      <td>1.868210</td>\n",
       "      <td>-2.553090</td>\n",
       "      <td>-70.199997</td>\n",
       "      <td>3.163618</td>\n",
       "      <td>12</td>\n",
       "      <td>7</td>\n",
       "      <td>39</td>\n",
       "      <td>-0.939081</td>\n",
       "      <td>526921774877638656</td>\n",
       "      <td>...</td>\n",
       "      <td>12.0</td>\n",
       "      <td>-70.250000</td>\n",
       "      <td>-0.050003</td>\n",
       "      <td>12494.0</td>\n",
       "      <td>-60.200001</td>\n",
       "      <td>3.060462</td>\n",
       "      <td>5.314248e+17</td>\n",
       "      <td>-69.75</td>\n",
       "      <td>3.537262</td>\n",
       "      <td>0</td>\n",
       "    </tr>\n",
       "    <tr>\n",
       "      <th>2041</th>\n",
       "      <td>10660</td>\n",
       "      <td>-3.162860</td>\n",
       "      <td>-0.194946</td>\n",
       "      <td>-69.750000</td>\n",
       "      <td>3.168862</td>\n",
       "      <td>12</td>\n",
       "      <td>7</td>\n",
       "      <td>106</td>\n",
       "      <td>-3.080034</td>\n",
       "      <td>571986014856282112</td>\n",
       "      <td>...</td>\n",
       "      <td>12.0</td>\n",
       "      <td>-69.800003</td>\n",
       "      <td>-0.050003</td>\n",
       "      <td>12494.0</td>\n",
       "      <td>-60.200001</td>\n",
       "      <td>3.060462</td>\n",
       "      <td>5.314248e+17</td>\n",
       "      <td>-69.75</td>\n",
       "      <td>3.537262</td>\n",
       "      <td>0</td>\n",
       "    </tr>\n",
       "    <tr>\n",
       "      <th>2080</th>\n",
       "      <td>10111</td>\n",
       "      <td>0.280567</td>\n",
       "      <td>3.158310</td>\n",
       "      <td>-70.199997</td>\n",
       "      <td>3.170748</td>\n",
       "      <td>12</td>\n",
       "      <td>7</td>\n",
       "      <td>82</td>\n",
       "      <td>1.482194</td>\n",
       "      <td>544935829789736960</td>\n",
       "      <td>...</td>\n",
       "      <td>12.0</td>\n",
       "      <td>-70.250000</td>\n",
       "      <td>-0.050003</td>\n",
       "      <td>12494.0</td>\n",
       "      <td>-60.200001</td>\n",
       "      <td>3.060462</td>\n",
       "      <td>5.314248e+17</td>\n",
       "      <td>-69.75</td>\n",
       "      <td>3.537262</td>\n",
       "      <td>0</td>\n",
       "    </tr>\n",
       "    <tr>\n",
       "      <th>2082</th>\n",
       "      <td>8426</td>\n",
       "      <td>-3.165120</td>\n",
       "      <td>-0.191680</td>\n",
       "      <td>-69.800003</td>\n",
       "      <td>3.170919</td>\n",
       "      <td>12</td>\n",
       "      <td>7</td>\n",
       "      <td>4</td>\n",
       "      <td>-3.081106</td>\n",
       "      <td>571986014856282112</td>\n",
       "      <td>...</td>\n",
       "      <td>12.0</td>\n",
       "      <td>-70.250000</td>\n",
       "      <td>-0.449997</td>\n",
       "      <td>12494.0</td>\n",
       "      <td>-60.200001</td>\n",
       "      <td>3.060462</td>\n",
       "      <td>5.314248e+17</td>\n",
       "      <td>-69.75</td>\n",
       "      <td>3.537262</td>\n",
       "      <td>0</td>\n",
       "    </tr>\n",
       "    <tr>\n",
       "      <th>1754</th>\n",
       "      <td>10333</td>\n",
       "      <td>-2.115190</td>\n",
       "      <td>2.349540</td>\n",
       "      <td>-70.199997</td>\n",
       "      <td>3.161387</td>\n",
       "      <td>12</td>\n",
       "      <td>7</td>\n",
       "      <td>93</td>\n",
       "      <td>2.303753</td>\n",
       "      <td>756606180507254784</td>\n",
       "      <td>...</td>\n",
       "      <td>12.0</td>\n",
       "      <td>-81.750000</td>\n",
       "      <td>-11.550003</td>\n",
       "      <td>12494.0</td>\n",
       "      <td>-60.200001</td>\n",
       "      <td>3.060462</td>\n",
       "      <td>5.314248e+17</td>\n",
       "      <td>-69.75</td>\n",
       "      <td>3.537262</td>\n",
       "      <td>0</td>\n",
       "    </tr>\n",
       "    <tr>\n",
       "      <th>2433</th>\n",
       "      <td>10160</td>\n",
       "      <td>-0.640201</td>\n",
       "      <td>3.127120</td>\n",
       "      <td>-69.750000</td>\n",
       "      <td>3.191980</td>\n",
       "      <td>12</td>\n",
       "      <td>7</td>\n",
       "      <td>85</td>\n",
       "      <td>1.772731</td>\n",
       "      <td>4508135112835072</td>\n",
       "      <td>...</td>\n",
       "      <td>12.0</td>\n",
       "      <td>-70.199997</td>\n",
       "      <td>-0.449997</td>\n",
       "      <td>12494.0</td>\n",
       "      <td>-60.200001</td>\n",
       "      <td>3.060462</td>\n",
       "      <td>5.314248e+17</td>\n",
       "      <td>-69.75</td>\n",
       "      <td>3.537262</td>\n",
       "      <td>0</td>\n",
       "    </tr>\n",
       "    <tr>\n",
       "      <th>4122</th>\n",
       "      <td>10331</td>\n",
       "      <td>-2.426510</td>\n",
       "      <td>2.105840</td>\n",
       "      <td>-70.199997</td>\n",
       "      <td>3.212867</td>\n",
       "      <td>12</td>\n",
       "      <td>7</td>\n",
       "      <td>93</td>\n",
       "      <td>2.426828</td>\n",
       "      <td>806146463603097600</td>\n",
       "      <td>...</td>\n",
       "      <td>12.0</td>\n",
       "      <td>-70.250000</td>\n",
       "      <td>-0.050003</td>\n",
       "      <td>12494.0</td>\n",
       "      <td>-60.200001</td>\n",
       "      <td>3.060462</td>\n",
       "      <td>5.314248e+17</td>\n",
       "      <td>-69.75</td>\n",
       "      <td>3.537262</td>\n",
       "      <td>0</td>\n",
       "    </tr>\n",
       "    <tr>\n",
       "      <th>4144</th>\n",
       "      <td>10110</td>\n",
       "      <td>-0.646437</td>\n",
       "      <td>3.147420</td>\n",
       "      <td>-70.199997</td>\n",
       "      <td>3.213119</td>\n",
       "      <td>12</td>\n",
       "      <td>7</td>\n",
       "      <td>82</td>\n",
       "      <td>1.773366</td>\n",
       "      <td>4508135112835072</td>\n",
       "      <td>...</td>\n",
       "      <td>12.0</td>\n",
       "      <td>-70.250000</td>\n",
       "      <td>-0.050003</td>\n",
       "      <td>12494.0</td>\n",
       "      <td>-60.200001</td>\n",
       "      <td>3.060462</td>\n",
       "      <td>5.314248e+17</td>\n",
       "      <td>-69.75</td>\n",
       "      <td>3.537262</td>\n",
       "      <td>0</td>\n",
       "    </tr>\n",
       "  </tbody>\n",
       "</table>\n",
       "<p>10 rows × 25 columns</p>\n",
       "</div>"
      ],
      "text/plain": [
       "      hit_id         x         y          z         r  layer_id  volume_id  \\\n",
       "1806   10497 -2.756000  1.551070 -70.250000  3.162492        12          7   \n",
       "2094    9982  0.282787  3.159080 -70.250000  3.171711        12          7   \n",
       "1840    9132  1.868210 -2.553090 -70.199997  3.163618        12          7   \n",
       "2041   10660 -3.162860 -0.194946 -69.750000  3.168862        12          7   \n",
       "2080   10111  0.280567  3.158310 -70.199997  3.170748        12          7   \n",
       "2082    8426 -3.165120 -0.191680 -69.800003  3.170919        12          7   \n",
       "1754   10333 -2.115190  2.349540 -70.199997  3.161387        12          7   \n",
       "2433   10160 -0.640201  3.127120 -69.750000  3.191980        12          7   \n",
       "4122   10331 -2.426510  2.105840 -70.199997  3.212867        12          7   \n",
       "4144   10110 -0.646437  3.147420 -70.199997  3.213119        12          7   \n",
       "\n",
       "      module_id       phi         particle_id  ...  unique_layer_id  \\\n",
       "1806         98  2.628977  369296543833915392  ...             12.0   \n",
       "2094         77  1.481519  544935829789736960  ...             12.0   \n",
       "1840         39 -0.939081  526921774877638656  ...             12.0   \n",
       "2041        106 -3.080034  571986014856282112  ...             12.0   \n",
       "2080         82  1.482194  544935829789736960  ...             12.0   \n",
       "2082          4 -3.081106  571986014856282112  ...             12.0   \n",
       "1754         93  2.303753  756606180507254784  ...             12.0   \n",
       "2433         85  1.772731    4508135112835072  ...             12.0   \n",
       "4122         93  2.426828  806146463603097600  ...             12.0   \n",
       "4144         82  1.773366    4508135112835072  ...             12.0   \n",
       "\n",
       "            z_2     diff_z  prev_hit_id     prev_z    prev_r      prev_pid  \\\n",
       "1806 -81.750000 -11.500000      12494.0 -60.200001  3.060462  5.314248e+17   \n",
       "2094 -81.800003 -11.550003      12494.0 -60.200001  3.060462  5.314248e+17   \n",
       "1840 -70.250000  -0.050003      12494.0 -60.200001  3.060462  5.314248e+17   \n",
       "2041 -69.800003  -0.050003      12494.0 -60.200001  3.060462  5.314248e+17   \n",
       "2080 -70.250000  -0.050003      12494.0 -60.200001  3.060462  5.314248e+17   \n",
       "2082 -70.250000  -0.449997      12494.0 -60.200001  3.060462  5.314248e+17   \n",
       "1754 -81.750000 -11.550003      12494.0 -60.200001  3.060462  5.314248e+17   \n",
       "2433 -70.199997  -0.449997      12494.0 -60.200001  3.060462  5.314248e+17   \n",
       "4122 -70.250000  -0.050003      12494.0 -60.200001  3.060462  5.314248e+17   \n",
       "4144 -70.250000  -0.050003      12494.0 -60.200001  3.060462  5.314248e+17   \n",
       "\n",
       "      correct_z  correct_r  is_correct  \n",
       "1806     -69.75   3.537262           0  \n",
       "2094     -69.75   3.537262           0  \n",
       "1840     -69.75   3.537262           0  \n",
       "2041     -69.75   3.537262           0  \n",
       "2080     -69.75   3.537262           0  \n",
       "2082     -69.75   3.537262           0  \n",
       "1754     -69.75   3.537262           0  \n",
       "2433     -69.75   3.537262           0  \n",
       "4122     -69.75   3.537262           0  \n",
       "4144     -69.75   3.537262           0  \n",
       "\n",
       "[10 rows x 25 columns]"
      ]
     },
     "execution_count": 36,
     "metadata": {},
     "output_type": "execute_result"
    }
   ],
   "source": [
    "comp_hits"
   ]
  },
  {
   "cell_type": "code",
   "execution_count": 60,
   "id": "9a76ec3b",
   "metadata": {},
   "outputs": [],
   "source": [
    "distances = np.array([2, 30, 1002, 1230, 124, 2, 6, 19, 384, 1, 22, 49, 28])"
   ]
  },
  {
   "cell_type": "code",
   "execution_count": null,
   "id": "e842150f",
   "metadata": {},
   "outputs": [],
   "source": [
    "        if num_close == 0: \n",
    "            idx = np.argmin(distances)\n",
    "            one_hit = pd.DataFrame([comp_hits.iloc[idx]]) \n",
    "            final = pd.concat([one_hit, one_hit])\n",
    "            #print(final)\n",
    "        elif len(comp_hits) > num_close: \n",
    "            idx = np.argpartition(distances, num_close)\n",
    "            final = comp_hits.iloc[idx][:num_close]\n"
   ]
  },
  {
   "cell_type": "code",
   "execution_count": 56,
   "id": "a22a76af",
   "metadata": {},
   "outputs": [],
   "source": [
    "num_close = 10 \n",
    "idx = np.argpartition(distances, num_close)\n"
   ]
  },
  {
   "cell_type": "code",
   "execution_count": 61,
   "id": "d8de3036",
   "metadata": {},
   "outputs": [],
   "source": [
    "final = distances[idx]\n"
   ]
  },
  {
   "cell_type": "code",
   "execution_count": 62,
   "id": "6b278e41",
   "metadata": {},
   "outputs": [
    {
     "data": {
      "text/plain": [
       "array([   2,    2,    1,    6,   22,   28,   30,   19,   49,  124,  384,\n",
       "       1002, 1230])"
      ]
     },
     "execution_count": 62,
     "metadata": {},
     "output_type": "execute_result"
    }
   ],
   "source": [
    "final"
   ]
  },
  {
   "cell_type": "code",
   "execution_count": 65,
   "id": "d4741af5",
   "metadata": {},
   "outputs": [
    {
     "data": {
      "text/plain": [
       "array([  1,   2,   2,   6,  19,  22,  28,  30,  49, 124])"
      ]
     },
     "execution_count": 65,
     "metadata": {},
     "output_type": "execute_result"
    }
   ],
   "source": [
    "distances[distances.argsort()[:10]]\n"
   ]
  },
  {
   "cell_type": "code",
   "execution_count": null,
   "id": "da2ac8c8",
   "metadata": {},
   "outputs": [],
   "source": [
    " numpy.argsort(a, axis=- 1, kind=None, order=None)[source]"
   ]
  }
 ],
 "metadata": {
  "kernelspec": {
   "display_name": "Python 3 (ipykernel)",
   "language": "python",
   "name": "python3"
  },
  "language_info": {
   "codemirror_mode": {
    "name": "ipython",
    "version": 3
   },
   "file_extension": ".py",
   "mimetype": "text/x-python",
   "name": "python",
   "nbconvert_exporter": "python",
   "pygments_lexer": "ipython3",
   "version": "3.7.11"
  }
 },
 "nbformat": 4,
 "nbformat_minor": 5
}
