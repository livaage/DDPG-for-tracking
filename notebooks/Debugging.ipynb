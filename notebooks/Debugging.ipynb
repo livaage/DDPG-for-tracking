{
 "cells": [
  {
   "cell_type": "code",
   "execution_count": 45,
   "id": "9f366f7b",
   "metadata": {},
   "outputs": [],
   "source": [
    "import numpy as np\n",
    "import pandas as pd\n",
    "from tqdm import tqdm\n",
    "import matplotlib.pyplot as plt\n",
    "import json \n",
    "import sys\n",
    "#sys.path.append('../dataloaders/')\n",
    "#sys.path.append('../utils/')\n",
    "sys.path.append('../')\n",
    "from tqdm import tqdm \n",
    "\n",
    "from dataloaders.dataloader import DataLoader \n",
    "import plotting\n",
    "from utils.geometry import calc_distance\n",
    "from utils.find_compatible_hits_dev import Find_Compatible_Hits_ModuleMap_Line_New\n"
   ]
  },
  {
   "cell_type": "code",
   "execution_count": 46,
   "id": "8e9da3a0",
   "metadata": {},
   "outputs": [],
   "source": [
    "f = open(\"/home/lhv14/mapping_noMissing_noPtcut__noDoubles_1000.json\") \n",
    "\n",
    "mappings = json.load(f)"
   ]
  },
  {
   "cell_type": "code",
   "execution_count": 47,
   "id": "7d89cc2e",
   "metadata": {},
   "outputs": [
    {
     "name": "stderr",
     "output_type": "stream",
     "text": [
      "../dataloaders/dataloader.py:154: FutureWarning: Indexing with multiple keys (implicitly converted to a tuple of keys) will be deprecated, use a list instead.\n",
      "  self.hits[['next_mod_id', 'connecting_layer_id']] = self.hits.groupby('particle_id')['discrete_module_id', 'unique_layer_id'].shift(-1)\n"
     ]
    }
   ],
   "source": [
    "dl = DataLoader() \n",
    "hits, allowed_pids = dl.load_data_trackml(0)"
   ]
  },
  {
   "cell_type": "code",
   "execution_count": 48,
   "id": "0399b1e9",
   "metadata": {},
   "outputs": [
    {
     "name": "stderr",
     "output_type": "stream",
     "text": [
      "100%|█████████████████████████████████████████████████████████████████████████████████████████████████████████████████████| 100/100 [00:04<00:00, 22.39it/s]\n"
     ]
    }
   ],
   "source": [
    "\n",
    "success = 0 \n",
    "hitsfound, tries = 0, 0 \n",
    "\n",
    "#for pid in tqdm(np.unique(hits.particle_id)[:20]): \n",
    "for pid in tqdm(allowed_pids[:100]):\n",
    "#for pid in rl_pids[: \n",
    "    p = hits[hits['particle_id']==pid]\n",
    "    smallest_rs = p.groupby(['particle_id', 'unique_layer_id'])['r'].min()\n",
    "    p = p.merge(smallest_rs)\n",
    "    \n",
    "    p[['prev_z', 'prev_r']] = p.groupby('particle_id')[['z', 'r']].shift(1)\n",
    "    p['m'] = (p['r'] - p['prev_r'])/(p['z'] - p['prev_z'])\n",
    "    p['b'] = p['r'] - p['m']*p['z']\n",
    "    p[['next_r', 'next_z', 'next_hit_id']] = p.groupby('particle_id')[['r', 'z', 'hit_id']].shift(-1)\n",
    "\n",
    "    #print(p)\n",
    "    start_hit = p.iloc[0]\n",
    "    next_start_hit = p.iloc[1]\n",
    "    \n",
    "    if start_hit.unique_layer_id == next_start_hit.unique_layer_id: \n",
    "        next_start_hit = p.iloc[2]\n",
    "    track_reward = 0 \n",
    "\n",
    "    #m = (next_start_hit.r - start_hit.r)/(next_start_hit.z - start_hit.z)\n",
    "    #b = next_start_hit.r - m*next_start_hit.z\n",
    "    #print(p)\n",
    "    hitids = [] \n",
    "    prev_m = m \n",
    "    prev_b = b \n",
    "    for i in range(len(p)-2):\n",
    "        #print(hit1)\n",
    "        hit1 = p.iloc[i]\n",
    "        hit2 = p.iloc[i+1]\n",
    "        hit3 = p.iloc[i+2]\n",
    "        \n",
    "\n",
    "        m = hit2.m \n",
    "        b = hit2.b\n",
    "#         m = (hit2.r - hit1.r)/(hit2.z - hit1.z)\n",
    "#         b = hit2.r - m*hit2.z\n",
    "        \n",
    "#         if round(hit2.m, 2) != round(m, 2): \n",
    "#             print(\"not the same\", hit2.m, m)\n",
    "             \n",
    "        try: \n",
    "            comp_mod = mappings[str(int(hit2.discrete_module_id))]\n",
    "            #print(\"hit2 mod id\", hit2.discrete_module_id)\n",
    "        except: \n",
    "            #print(\"haven't seen this module\", hit2.discrete_module_id)\n",
    "            comp_mod = []\n",
    "            \n",
    "        \n",
    "    \n",
    "        if m > 0: \n",
    "            compy = hits[((hits['z'] > hit2.z) |  (hits['z'] == hit2.z))]\n",
    "        else: \n",
    "            compy = hits[((hits['z'] < hit2.z) |  (hits['z'] == hit2.z))] \n",
    "        \n",
    "        #comp_hits = compy[compy['discrete_module_id'].isin(comp_mod) & \n",
    "        #            (compy['r'] > hit2.r)]# & \n",
    "                    #(np.abs(hits['z']) > np.abs(hit2.z))]\n",
    "            \n",
    "        comp_hits = compy[compy['discrete_module_id'].isin(comp_mod)]\n",
    "        #print(\"is in comp hits\", hit3.hit_id in comp_hits.hit_id)\n",
    "        #num_comp.append(len(comp_hits))\n",
    "        \n",
    "        distances = calc_distance(m,b, comp_hits.z, comp_hits.r)\n",
    "        num_close = 10\n",
    "\n",
    "        if len(comp_hits) > num_close: \n",
    "            idx = np.argpartition(distances, range(num_close))\n",
    "            final = comp_hits.iloc[idx.values][:num_close]\n",
    "        else: \n",
    "            final = comp_hits \n",
    "        \n",
    " \n",
    "        \n",
    "        #hitids.append(final.hit_id.values)\n",
    "        if hit3.hit_id in final.hit_id.values: \n",
    "            hitsfound += 1 \n",
    "\n",
    "        tries +=1 \n"
   ]
  },
  {
   "cell_type": "code",
   "execution_count": 49,
   "id": "195e61ac",
   "metadata": {},
   "outputs": [
    {
     "data": {
      "text/plain": [
       "0.9426111908177905"
      ]
     },
     "execution_count": 49,
     "metadata": {},
     "output_type": "execute_result"
    }
   ],
   "source": [
    "hitsfound/tries"
   ]
  },
  {
   "cell_type": "code",
   "execution_count": 50,
   "id": "fb9aa535",
   "metadata": {},
   "outputs": [
    {
     "name": "stderr",
     "output_type": "stream",
     "text": [
      "100%|█████████████████████████████████████████████████████████████████████████████████████████████████████████████████████| 100/100 [00:09<00:00, 10.00it/s]\n"
     ]
    }
   ],
   "source": [
    "comp = Find_Compatible_Hits_ModuleMap_Line_New(hits)\n",
    "\n",
    "success = 0 \n",
    "hitsfound, tries = 0, 0 \n",
    "\n",
    "#for pid in tqdm(np.unique(hits.particle_id)[:20]): \n",
    "for pid in tqdm(allowed_pids[:100]):\n",
    "#for pid in rl_pids[: \n",
    "    p = hits[hits['particle_id']==pid]\n",
    "    smallest_rs = p.groupby(['particle_id', 'unique_layer_id'])['r'].min()\n",
    "    p = p.merge(smallest_rs)\n",
    "    \n",
    "    p[['prev_z', 'prev_r']] = p.groupby('particle_id')[['z', 'r']].shift(1)\n",
    "    p['m'] = (p['r'] - p['prev_r'])/(p['z'] - p['prev_z'])\n",
    "    p['b'] = p['r'] - p['m']*p['z']\n",
    "    p[['next_r', 'next_z', 'next_hit_id']] = p.groupby('particle_id')[['r', 'z', 'hit_id']].shift(-1)\n",
    "\n",
    "    #print(p)\n",
    "    start_hit = p.iloc[0]\n",
    "    next_start_hit = p.iloc[1]\n",
    "    \n",
    "    if start_hit.unique_layer_id == next_start_hit.unique_layer_id: \n",
    "        next_start_hit = p.iloc[2]\n",
    "    track_reward = 0 \n",
    "\n",
    "    #m = (next_start_hit.r - start_hit.r)/(next_start_hit.z - start_hit.z)\n",
    "    #b = next_start_hit.r - m*next_start_hit.z\n",
    "    #print(p)\n",
    "    hitids = [] \n",
    "    prev_m = m \n",
    "    prev_b = b \n",
    "    for i in range(len(p)-2):\n",
    "        #print(hit1)\n",
    "        hit1 = p.iloc[i]\n",
    "        hit2 = p.iloc[i+1]\n",
    "        hit3 = p.iloc[i+2]\n",
    "        \n",
    "\n",
    "        m = hit2.m \n",
    "        b = hit2.b\n",
    "\n",
    "        final = comp.get_comp_hits_notrow(hit2.z, hit2.r, hit2.m, hit2.b, num_close)[0]\n",
    "\n",
    " \n",
    "        \n",
    "        #hitids.append(final.hit_id.values)\n",
    "        if hit3.hit_id in final.hit_id.values: \n",
    "            hitsfound += 1 \n",
    "\n",
    "        tries +=1 \n"
   ]
  },
  {
   "cell_type": "code",
   "execution_count": 51,
   "id": "ae813195",
   "metadata": {},
   "outputs": [
    {
     "data": {
      "text/plain": [
       "0.9497847919655668"
      ]
     },
     "execution_count": 51,
     "metadata": {},
     "output_type": "execute_result"
    }
   ],
   "source": [
    "hitsfound/tries"
   ]
  },
  {
   "cell_type": "code",
   "execution_count": 16,
   "id": "24828113",
   "metadata": {},
   "outputs": [],
   "source": [
    "p = hits[hits['particle_id']==allowed_pids[0]]\n",
    "smallest_rs = p.groupby(['particle_id', 'unique_layer_id'])['r'].min()\n",
    "p = p.merge(smallest_rs)"
   ]
  },
  {
   "cell_type": "code",
   "execution_count": 37,
   "id": "bab624b8",
   "metadata": {},
   "outputs": [
    {
     "name": "stdout",
     "output_type": "stream",
     "text": [
      "-0.23950683071783405 0.750442398761475 nan\n",
      "-0.2377907355975841 0.8287773320276663 -0.2395068258047104\n",
      "-0.2360624366522077 0.9321296076425867 -0.23779073357582092\n",
      "-0.2344696573208979 1.0433056098287885 -0.2360624372959137\n",
      "-0.2318507659338456 1.3232651031007912 -0.23446965217590332\n",
      "-0.2298785618373326 1.562986517050632 -0.2318507730960846\n",
      "-0.2158539613773006 3.6603655586481025 -0.22987855970859528\n",
      "-0.2081571306501116 5.046949567173478 -0.2158539593219757\n",
      "-0.1926426331204022 8.384893615997477 -0.20815713703632355\n"
     ]
    }
   ],
   "source": [
    "for i in range(len(p)-2):\n",
    "\n",
    "    hit1 = p.iloc[i]\n",
    "    hit2 = p.iloc[i+1]\n",
    "    hit3 = p.iloc[i+2]\n",
    "    m = (hit2.r - hit1.r)/(hit2.z - hit1.z)\n",
    "    b = hit2.r - m*hit2.z\n",
    "\n",
    "    print(m, b, hit2.m)"
   ]
  },
  {
   "cell_type": "code",
   "execution_count": 35,
   "id": "643676ec",
   "metadata": {},
   "outputs": [
    {
     "data": {
      "text/html": [
       "<div>\n",
       "<style scoped>\n",
       "    .dataframe tbody tr th:only-of-type {\n",
       "        vertical-align: middle;\n",
       "    }\n",
       "\n",
       "    .dataframe tbody tr th {\n",
       "        vertical-align: top;\n",
       "    }\n",
       "\n",
       "    .dataframe thead th {\n",
       "        text-align: right;\n",
       "    }\n",
       "</style>\n",
       "<table border=\"1\" class=\"dataframe\">\n",
       "  <thead>\n",
       "    <tr style=\"text-align: right;\">\n",
       "      <th></th>\n",
       "      <th>hit_id</th>\n",
       "      <th>m</th>\n",
       "      <th>b</th>\n",
       "    </tr>\n",
       "  </thead>\n",
       "  <tbody>\n",
       "    <tr>\n",
       "      <th>0</th>\n",
       "      <td>20687</td>\n",
       "      <td>NaN</td>\n",
       "      <td>NaN</td>\n",
       "    </tr>\n",
       "    <tr>\n",
       "      <th>1</th>\n",
       "      <td>25681</td>\n",
       "      <td>NaN</td>\n",
       "      <td>NaN</td>\n",
       "    </tr>\n",
       "    <tr>\n",
       "      <th>2</th>\n",
       "      <td>12045</td>\n",
       "      <td>-0.239507</td>\n",
       "      <td>0.750443</td>\n",
       "    </tr>\n",
       "    <tr>\n",
       "      <th>3</th>\n",
       "      <td>9681</td>\n",
       "      <td>-0.237791</td>\n",
       "      <td>0.828777</td>\n",
       "    </tr>\n",
       "    <tr>\n",
       "      <th>4</th>\n",
       "      <td>54171</td>\n",
       "      <td>-0.236062</td>\n",
       "      <td>0.932129</td>\n",
       "    </tr>\n",
       "    <tr>\n",
       "      <th>5</th>\n",
       "      <td>53585</td>\n",
       "      <td>-0.234470</td>\n",
       "      <td>1.043306</td>\n",
       "    </tr>\n",
       "    <tr>\n",
       "      <th>6</th>\n",
       "      <td>52485</td>\n",
       "      <td>-0.231851</td>\n",
       "      <td>1.323265</td>\n",
       "    </tr>\n",
       "    <tr>\n",
       "      <th>7</th>\n",
       "      <td>51394</td>\n",
       "      <td>-0.229879</td>\n",
       "      <td>1.562988</td>\n",
       "    </tr>\n",
       "    <tr>\n",
       "      <th>8</th>\n",
       "      <td>50350</td>\n",
       "      <td>-0.215854</td>\n",
       "      <td>3.660366</td>\n",
       "    </tr>\n",
       "    <tr>\n",
       "      <th>9</th>\n",
       "      <td>49316</td>\n",
       "      <td>-0.208157</td>\n",
       "      <td>5.046947</td>\n",
       "    </tr>\n",
       "    <tr>\n",
       "      <th>10</th>\n",
       "      <td>48300</td>\n",
       "      <td>-0.192643</td>\n",
       "      <td>8.384895</td>\n",
       "    </tr>\n",
       "  </tbody>\n",
       "</table>\n",
       "</div>"
      ],
      "text/plain": [
       "    hit_id         m         b\n",
       "0    20687       NaN       NaN\n",
       "1    25681       NaN       NaN\n",
       "2    12045 -0.239507  0.750443\n",
       "3     9681 -0.237791  0.828777\n",
       "4    54171 -0.236062  0.932129\n",
       "5    53585 -0.234470  1.043306\n",
       "6    52485 -0.231851  1.323265\n",
       "7    51394 -0.229879  1.562988\n",
       "8    50350 -0.215854  3.660366\n",
       "9    49316 -0.208157  5.046947\n",
       "10   48300 -0.192643  8.384895"
      ]
     },
     "execution_count": 35,
     "metadata": {},
     "output_type": "execute_result"
    }
   ],
   "source": [
    "p[['hit_id', 'm', 'b']]"
   ]
  },
  {
   "cell_type": "code",
   "execution_count": 19,
   "id": "a41f22d9",
   "metadata": {},
   "outputs": [],
   "source": [
    "p[['prev_z', 'prev_r']] = p.groupby('particle_id')[['z', 'r']].shift(1)\n",
    "p[['prev_prev_z', 'prev_prev_r']] = p.groupby('particle_id')[['prev_z', 'prev_r']].shift(1)\n",
    "p['m'] = (p['prev_r'] - p['prev_prev_r'])/(p['prev_z'] - p['prev_prev_z'])\n",
    "p['b'] = p['prev_r'] - p['m']*p['prev_z']\n",
    "p[['next_r', 'next_z', 'next_hit_id']] = p.groupby('particle_id')[['r', 'z', 'hit_id']].shift(-1)\n"
   ]
  },
  {
   "cell_type": "code",
   "execution_count": 24,
   "id": "eb26bc1f",
   "metadata": {},
   "outputs": [
    {
     "data": {
      "text/plain": [
       "-0.7948365211486816"
      ]
     },
     "execution_count": 24,
     "metadata": {},
     "output_type": "execute_result"
    }
   ],
   "source": [
    "p[['hit_id', 'm', 'b']].iloc[2].b"
   ]
  },
  {
   "cell_type": "code",
   "execution_count": null,
   "id": "bbec8c06",
   "metadata": {},
   "outputs": [],
   "source": []
  }
 ],
 "metadata": {
  "kernelspec": {
   "display_name": "Python 3 (ipykernel)",
   "language": "python",
   "name": "python3"
  },
  "language_info": {
   "codemirror_mode": {
    "name": "ipython",
    "version": 3
   },
   "file_extension": ".py",
   "mimetype": "text/x-python",
   "name": "python",
   "nbconvert_exporter": "python",
   "pygments_lexer": "ipython3",
   "version": "3.7.11"
  }
 },
 "nbformat": 4,
 "nbformat_minor": 5
}
